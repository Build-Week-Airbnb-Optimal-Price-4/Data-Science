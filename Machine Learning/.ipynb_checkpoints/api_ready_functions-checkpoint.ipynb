{
 "cells": [
  {
   "cell_type": "code",
   "execution_count": 1,
   "metadata": {},
   "outputs": [
    {
     "data": {
      "text/plain": [
       "(22552, 1)"
      ]
     },
     "execution_count": 1,
     "metadata": {},
     "output_type": "execute_result"
    }
   ],
   "source": [
    "import pandas as pd\n",
    "import zipfile\n",
    "\n",
    "\n",
    "zf = zipfile.ZipFile('./berlin-airbnb-data.zip')\n",
    "\n",
    "file_names = zf.namelist()\n",
    "\n",
    "listings_summary = pd.read_csv(zf.open(file_names[2]))\n",
    "\n",
    "columns_to_keep = ['description', 'id']\n",
    "\n",
    "df = listings_summary[columns_to_keep].set_index('id')\n",
    "df.shape"
   ]
  },
  {
   "cell_type": "code",
   "execution_count": 60,
   "metadata": {},
   "outputs": [
    {
     "data": {
      "text/plain": [
       "'great location 30 75 sq meter wood floor high ceiling typical altbau section apartment consist 1 simple large room small kitchen bathroom + shower apartment mitte close prenzlauer berg mauerpark perfect short visit single couple section close rest big flat wich noticeable share space a+++ location einliegerwohnung extention large apartment separate entrance bathroom kitchen door rest apartment soundproof hide locked barely noticable mirror picture 30 sq meter face quiet courtyard wood floor high ceiling typical altbau apartment consist 1 large room large double bed optionally extra matress 3rd guest small kitchen suitable prepare simple meal bathroom + shower + bathtub course entrance linen '"
      ]
     },
     "execution_count": 60,
     "metadata": {},
     "output_type": "execute_result"
    }
   ],
   "source": [
    "import spacy\n",
    "from spacy.tokenizer import Tokenizer\n",
    "\n",
    "def get_lemmas(text):\n",
    "    \n",
    "    nlp = spacy.load(\"en_core_web_sm-2.2.5\", path=\"./\")\n",
    "    \n",
    "    tokenizer = Tokenizer(nlp.vocab)\n",
    "    \n",
    "    STOP_WORDS = nlp.Defaults.stop_words.union(['  ', 'und', '-', 'die', 'der', 'berlin', 'ein', 'das', 'mit', 'ist', 'im', 'zu', 'eine', 'es', 'für'\n",
    "                                            'berlin.', 'zum', 'sind', 'für', 'Berlin.', '-pron-', 's', 'u', '', \"'\", ' ', '-PRON-'])\n",
    "\n",
    "    lemmas = []\n",
    "    \n",
    "    doc = nlp(text)\n",
    "    \n",
    "    # Something goes here :P\n",
    "    for token in doc: \n",
    "        #if ((token.is_stop == False) and (token.is_punct == False)) and (token.pos_!= 'PRON'):\n",
    "        lemmas.append(token.lemma_)\n",
    "    \n",
    "    lemma_summary = []\n",
    "    \n",
    "    #for set_of_lemmas in lemmas.values:\n",
    "    working_set = \"\"\n",
    "    for lemma in lemmas:\n",
    "        working_set += lemma + ' '\n",
    "    lemma_summary.append(working_set)\n",
    "    \n",
    "    \n",
    "    description = [lemma_summary[0]]\n",
    "\n",
    "    tokens = []\n",
    "\n",
    "    for doc in tokenizer.pipe(description, batch_size=500):\n",
    "\n",
    "        doc_tokens = []\n",
    "\n",
    "        for token in doc: \n",
    "            if ((token.is_stop == False) and (token.is_punct == False)) and (token.pos_!= 'PRON'):\n",
    "                if token.text.lower() not in STOP_WORDS:\n",
    "                    doc_tokens.append(token.text.lower())\n",
    "\n",
    "        tokens.append(doc_tokens)\n",
    "        \n",
    "    token_summary = []\n",
    "    \n",
    "    for set_of_tokens in tokens:\n",
    "        working_set = \"\"\n",
    "        for variable in set_of_tokens:\n",
    "            working_set += variable + ' '\n",
    "        token_summary.append(working_set)\n",
    "    \n",
    "    return token_summary[0]\n",
    "\n",
    "get_lemmas(df.description.iloc[0])"
   ]
  },
  {
   "cell_type": "code",
   "execution_count": 62,
   "metadata": {},
   "outputs": [
    {
     "data": {
      "text/plain": [
       "'Great location!  30 of 75 sq meters. This wood floored/high ceiling typical Berlin \"Altbau\" section of an apartment consists of 1 simple large room, a small kitchen and a bathroom + shower. The apartment is in Mitte, close to Prenzlauer Berg/Mauerpark. Perfect for short visits, singles or couples. Your section is closed from the rest of the bigger flat wich is not noticeable. You will not be sharing your space. A+++ location! This „Einliegerwohnung“ is an extention of a larger apartment with a separate entrance, bathroom and kitchen. The door to the rest of the apartment is soundproof, hidden, locked and barely noticable (behind mirror in pictures). Your 30 sq meters are facing a quiet courtyard. This wood floored/high ceiling typical Berlin \"Altbau\" apartment consists of 1 large room with a large double bed, optionally with an extra matress for a 3rd guest), a small kitchen suitable for preparing simple meals, a bathroom + shower + bathtub and of course your own entrance (all linens a'"
      ]
     },
     "execution_count": 62,
     "metadata": {},
     "output_type": "execute_result"
    }
   ],
   "source": [
    "df.description.iloc[0]"
   ]
  }
 ],
 "metadata": {
  "kernelspec": {
   "display_name": "Python 3",
   "language": "python",
   "name": "python3"
  },
  "language_info": {
   "codemirror_mode": {
    "name": "ipython",
    "version": 3
   },
   "file_extension": ".py",
   "mimetype": "text/x-python",
   "name": "python",
   "nbconvert_exporter": "python",
   "pygments_lexer": "ipython3",
   "version": "3.7.5"
  }
 },
 "nbformat": 4,
 "nbformat_minor": 4
}
