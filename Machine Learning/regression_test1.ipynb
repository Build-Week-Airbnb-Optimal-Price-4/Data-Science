{
 "cells": [
  {
   "cell_type": "code",
   "execution_count": 1,
   "metadata": {},
   "outputs": [],
   "source": [
    "import pandas as pd\n",
    "import zipfile\n",
    "\n",
    "\n",
    "zf = zipfile.ZipFile('./berlin-airbnb-data.zip')\n",
    "\n",
    "file_names = zf.namelist()\n",
    "\n",
    "\n",
    "calendar_summary = pd.read_csv(zf.open(file_names[0]))\n",
    "\n",
    "listings = pd.read_csv(zf.open(file_names[1]))\n",
    "\n",
    "listings_summary = pd.read_csv(zf.open(file_names[2]))\n",
    "\n",
    "neighbourhoods = pd.read_csv(zf.open(file_names[3]))\n",
    "\n",
    "reviews = pd.read_csv(zf.open(file_names[4]))\n",
    "\n",
    "reviews_summary = pd.read_csv(zf.open(file_names[5]))"
   ]
  },
  {
   "cell_type": "code",
   "execution_count": 89,
   "metadata": {},
   "outputs": [
    {
     "data": {
      "text/plain": [
       "(22552, 22)"
      ]
     },
     "execution_count": 89,
     "metadata": {},
     "output_type": "execute_result"
    }
   ],
   "source": [
    "columns_to_keep = ['id', 'space', 'description', 'host_has_profile_pic', 'neighbourhood_group_cleansed', \n",
    "                   'latitude', 'longitude', 'property_type', 'room_type', 'accommodates', 'bathrooms',  \n",
    "                   'bedrooms', 'bed_type', 'amenities', 'price', 'cleaning_fee', \n",
    "                   'security_deposit', 'extra_people', 'guests_included', 'minimum_nights',  \n",
    "                   'instant_bookable', 'is_business_travel_ready', 'cancellation_policy']\n",
    "\n",
    "df = listings_summary[columns_to_keep].set_index('id')\n",
    "df.shape"
   ]
  },
  {
   "cell_type": "code",
   "execution_count": 90,
   "metadata": {},
   "outputs": [],
   "source": [
    "df['size'] = df['description'].str.extract('(\\d{2,3}\\s?[smSM])', expand=True)\n",
    "df['size'] = df['size'].str.replace(\"\\D\", \"\")\n",
    "\n",
    "# change datatype of size into float\n",
    "df['size'] = df['size'].astype(float)"
   ]
  },
  {
   "cell_type": "code",
   "execution_count": 91,
   "metadata": {},
   "outputs": [
    {
     "data": {
      "text/html": [
       "<div>\n",
       "<style scoped>\n",
       "    .dataframe tbody tr th:only-of-type {\n",
       "        vertical-align: middle;\n",
       "    }\n",
       "\n",
       "    .dataframe tbody tr th {\n",
       "        vertical-align: top;\n",
       "    }\n",
       "\n",
       "    .dataframe thead th {\n",
       "        text-align: right;\n",
       "    }\n",
       "</style>\n",
       "<table border=\"1\" class=\"dataframe\">\n",
       "  <thead>\n",
       "    <tr style=\"text-align: right;\">\n",
       "      <th></th>\n",
       "      <th>size</th>\n",
       "      <th>description</th>\n",
       "    </tr>\n",
       "    <tr>\n",
       "      <th>id</th>\n",
       "      <th></th>\n",
       "      <th></th>\n",
       "    </tr>\n",
       "  </thead>\n",
       "  <tbody>\n",
       "    <tr>\n",
       "      <th>2015</th>\n",
       "      <td>75.0</td>\n",
       "      <td>Great location!  30 of 75 sq meters. This wood...</td>\n",
       "    </tr>\n",
       "    <tr>\n",
       "      <th>2695</th>\n",
       "      <td>25.0</td>\n",
       "      <td>In the summertime we are spending most of our ...</td>\n",
       "    </tr>\n",
       "    <tr>\n",
       "      <th>3176</th>\n",
       "      <td>68.0</td>\n",
       "      <td>This beautiful first floor apartment  is situa...</td>\n",
       "    </tr>\n",
       "    <tr>\n",
       "      <th>3309</th>\n",
       "      <td>26.0</td>\n",
       "      <td>First of all: I prefer short-notice bookings. ...</td>\n",
       "    </tr>\n",
       "    <tr>\n",
       "      <th>7071</th>\n",
       "      <td>20.0</td>\n",
       "      <td>Cozy and large room in the beautiful district ...</td>\n",
       "    </tr>\n",
       "    <tr>\n",
       "      <th>...</th>\n",
       "      <td>...</td>\n",
       "      <td>...</td>\n",
       "    </tr>\n",
       "    <tr>\n",
       "      <th>29856708</th>\n",
       "      <td>NaN</td>\n",
       "      <td>Charming apartment right in the center of Berl...</td>\n",
       "    </tr>\n",
       "    <tr>\n",
       "      <th>29857108</th>\n",
       "      <td>NaN</td>\n",
       "      <td>Die Wohnung liegt in unmittelbarer Nähe zum Vi...</td>\n",
       "    </tr>\n",
       "    <tr>\n",
       "      <th>29864272</th>\n",
       "      <td>NaN</td>\n",
       "      <td>Prenzlauer Berg is one of the most creative di...</td>\n",
       "    </tr>\n",
       "    <tr>\n",
       "      <th>29866805</th>\n",
       "      <td>NaN</td>\n",
       "      <td>The double rooms with private shower / WC are ...</td>\n",
       "    </tr>\n",
       "    <tr>\n",
       "      <th>29867352</th>\n",
       "      <td>NaN</td>\n",
       "      <td>Sunny, modern and cozy 3-bedroom shared flat i...</td>\n",
       "    </tr>\n",
       "  </tbody>\n",
       "</table>\n",
       "<p>22552 rows × 2 columns</p>\n",
       "</div>"
      ],
      "text/plain": [
       "          size                                        description\n",
       "id                                                               \n",
       "2015      75.0  Great location!  30 of 75 sq meters. This wood...\n",
       "2695      25.0  In the summertime we are spending most of our ...\n",
       "3176      68.0  This beautiful first floor apartment  is situa...\n",
       "3309      26.0  First of all: I prefer short-notice bookings. ...\n",
       "7071      20.0  Cozy and large room in the beautiful district ...\n",
       "...        ...                                                ...\n",
       "29856708   NaN  Charming apartment right in the center of Berl...\n",
       "29857108   NaN  Die Wohnung liegt in unmittelbarer Nähe zum Vi...\n",
       "29864272   NaN  Prenzlauer Berg is one of the most creative di...\n",
       "29866805   NaN  The double rooms with private shower / WC are ...\n",
       "29867352   NaN  Sunny, modern and cozy 3-bedroom shared flat i...\n",
       "\n",
       "[22552 rows x 2 columns]"
      ]
     },
     "execution_count": 91,
     "metadata": {},
     "output_type": "execute_result"
    }
   ],
   "source": [
    "df[['size', 'description']]"
   ]
  },
  {
   "cell_type": "code",
   "execution_count": 92,
   "metadata": {},
   "outputs": [
    {
     "data": {
      "text/plain": [
       "11794"
      ]
     },
     "execution_count": 92,
     "metadata": {},
     "output_type": "execute_result"
    }
   ],
   "source": [
    "df['size'].isna().sum()"
   ]
  },
  {
   "cell_type": "code",
   "execution_count": 93,
   "metadata": {},
   "outputs": [
    {
     "data": {
      "image/png": "[encoded data removed]",
      "text/plain": [
       "<Figure size 1152x144 with 1 Axes>"
      ]
     },
     "metadata": {
      "needs_background": "light"
     },
     "output_type": "display_data"
    }
   ],
   "source": [
    "df.cleaning_fee.fillna('$0.00', inplace=True)\n",
    "df.security_deposit.fillna('$0.00', inplace=True)\n",
    "df.host_has_profile_pic.fillna('f', inplace=True)\n",
    "\n",
    "df.price = df.price.str.replace('$', '').str.replace(',', '').astype(float)\n",
    "df.cleaning_fee = df.cleaning_fee.str.replace('$', '').str.replace(',', '').astype(float)\n",
    "df.security_deposit = df.security_deposit.str.replace('$', '').str.replace(',', '').astype(float)\n",
    "df.extra_people = df.extra_people.str.replace('$', '').str.replace(',', '').astype(float)\n",
    "\n",
    "red_square = dict(markerfacecolor='r', markeredgecolor='r', marker='.')\n",
    "df['price'].plot(kind='box', xlim=(0, 1000), vert=False, flierprops=red_square, figsize=(16,2));"
   ]
  },
  {
   "cell_type": "code",
   "execution_count": 94,
   "metadata": {},
   "outputs": [],
   "source": [
    "df.drop(df[ (df.price > 400) | (df.price == 0) ].index, axis=0, inplace=True)"
   ]
  },
  {
   "cell_type": "code",
   "execution_count": 95,
   "metadata": {},
   "outputs": [
    {
     "data": {
      "image/png": "[encoded data removed]",
      "text/plain": [
       "<Figure size 1152x144 with 1 Axes>"
      ]
     },
     "metadata": {
      "needs_background": "light"
     },
     "output_type": "display_data"
    }
   ],
   "source": [
    "red_square = dict(markerfacecolor='r', markeredgecolor='r', marker='.')\n",
    "df['price'].plot(kind='box', xlim=(0, 1000), vert=False, flierprops=red_square, figsize=(16,2));"
   ]
  },
  {
   "cell_type": "code",
   "execution_count": 96,
   "metadata": {},
   "outputs": [],
   "source": [
    "from geopy.distance import great_circle\n",
    "\n",
    "def distance_to_mid(lat, lon):\n",
    "    berlin_centre = (52.5027778, 13.404166666666667)\n",
    "    accommodation = (lat, lon)\n",
    "    return great_circle(berlin_centre, accommodation).km\n",
    "\n",
    "df['distance'] = df.apply(lambda x: distance_to_mid(x.latitude, x.longitude), axis=1)"
   ]
  },
  {
   "cell_type": "code",
   "execution_count": 97,
   "metadata": {},
   "outputs": [],
   "source": [
    "df.dropna(subset=['bathrooms', 'bedrooms'], inplace=True)"
   ]
  },
  {
   "cell_type": "code",
   "execution_count": 98,
   "metadata": {},
   "outputs": [
    {
     "data": {
      "text/plain": [
       "space                            8495\n",
       "description                       202\n",
       "host_has_profile_pic                0\n",
       "neighbourhood_group_cleansed        0\n",
       "latitude                            0\n",
       "longitude                           0\n",
       "property_type                       0\n",
       "room_type                           0\n",
       "accommodates                        0\n",
       "bathrooms                           0\n",
       "bedrooms                            0\n",
       "bed_type                            0\n",
       "amenities                           0\n",
       "price                               0\n",
       "cleaning_fee                        0\n",
       "security_deposit                    0\n",
       "extra_people                        0\n",
       "guests_included                     0\n",
       "minimum_nights                      0\n",
       "instant_bookable                    0\n",
       "is_business_travel_ready            0\n",
       "cancellation_policy                 0\n",
       "size                            11721\n",
       "distance                            0\n",
       "dtype: int64"
      ]
     },
     "execution_count": 98,
     "metadata": {},
     "output_type": "execute_result"
    }
   ],
   "source": [
    "df.isnull().sum()"
   ]
  },
  {
   "cell_type": "code",
   "execution_count": 99,
   "metadata": {},
   "outputs": [],
   "source": [
    "sub_df = df[['accommodates', 'bathrooms', 'bedrooms',  'price', 'cleaning_fee', \n",
    "                 'security_deposit', 'extra_people', 'guests_included', 'distance', 'size']]\n",
    "\n",
    "train_data = sub_df[sub_df['size'].notnull()]\n",
    "test_data  = sub_df[sub_df['size'].isnull()]\n",
    "\n",
    "# define X\n",
    "X_train = train_data.drop('size', axis=1)\n",
    "X_test  = test_data.drop('size', axis=1)\n",
    "\n",
    "# define y\n",
    "y_train = train_data['size']\n",
    "\n",
    "# import Linear Regression\n",
    "from sklearn.linear_model import LinearRegression\n",
    "\n",
    "# instantiate\n",
    "linreg = LinearRegression()\n",
    "\n",
    "# fit model to training data\n",
    "linreg.fit(X_train, y_train)\n",
    "\n",
    "y_test = linreg.predict(X_test)"
   ]
  },
  {
   "cell_type": "code",
   "execution_count": 100,
   "metadata": {},
   "outputs": [],
   "source": [
    "y_test = pd.DataFrame(y_test)\n",
    "y_test.columns = ['size']\n",
    "\n",
    "# make the index of X_test to an own dataframe\n",
    "prelim_index = pd.DataFrame(X_test.index)\n",
    "prelim_index.columns = ['prelim']\n",
    "\n",
    "# ... and concat this dataframe with y_test\n",
    "y_test = pd.concat([y_test, prelim_index], axis=1)\n",
    "y_test.set_index(['prelim'], inplace=True)\n",
    "\n",
    "new_test_data = pd.concat([X_test, y_test], axis=1)\n",
    "\n",
    "sub_df_new = pd.concat([new_test_data, train_data], axis=0)\n",
    "\n",
    "df.drop(['accommodates', 'bathrooms', 'bedrooms', 'price', 'cleaning_fee', \n",
    "             'security_deposit', 'extra_people', 'guests_included', 'distance', 'size'], \n",
    "            axis=1, inplace=True)\n",
    "\n",
    "df = pd.concat([sub_df_new, df], axis=1)"
   ]
  },
  {
   "cell_type": "code",
   "execution_count": 101,
   "metadata": {},
   "outputs": [
    {
     "data": {
      "image/png": "[encoded data removed]",
      "text/plain": [
       "<Figure size 1152x144 with 1 Axes>"
      ]
     },
     "metadata": {
      "needs_background": "light"
     },
     "output_type": "display_data"
    }
   ],
   "source": [
    "red_square = dict(markerfacecolor='r', markeredgecolor='r', marker='.')\n",
    "df['size'].plot(kind='box', xlim=(0, 1000), vert=False, flierprops=red_square, figsize=(16,2));"
   ]
  },
  {
   "cell_type": "code",
   "execution_count": 102,
   "metadata": {},
   "outputs": [],
   "source": [
    "df.drop(df[ (df['size'] == 0.) | (df['size'] > 300.) ].index, axis=0, inplace=True)"
   ]
  },
  {
   "cell_type": "code",
   "execution_count": 103,
   "metadata": {},
   "outputs": [
    {
     "data": {
      "text/plain": [
       "accommodates                       0\n",
       "bathrooms                          0\n",
       "bedrooms                           0\n",
       "price                              0\n",
       "cleaning_fee                       0\n",
       "security_deposit                   0\n",
       "extra_people                       0\n",
       "guests_included                    0\n",
       "distance                           0\n",
       "size                               0\n",
       "space                           8387\n",
       "description                      202\n",
       "host_has_profile_pic               0\n",
       "neighbourhood_group_cleansed       0\n",
       "latitude                           0\n",
       "longitude                          0\n",
       "property_type                      0\n",
       "room_type                          0\n",
       "bed_type                           0\n",
       "amenities                          0\n",
       "minimum_nights                     0\n",
       "instant_bookable                   0\n",
       "is_business_travel_ready           0\n",
       "cancellation_policy                0\n",
       "dtype: int64"
      ]
     },
     "execution_count": 103,
     "metadata": {},
     "output_type": "execute_result"
    }
   ],
   "source": [
    "df.isnull().sum()"
   ]
  },
  {
   "cell_type": "code",
   "execution_count": 104,
   "metadata": {},
   "outputs": [],
   "source": [
    "df.drop(columns=['space', 'description'], inplace = True)"
   ]
  },
  {
   "cell_type": "code",
   "execution_count": 105,
   "metadata": {},
   "outputs": [
    {
     "data": {
      "text/plain": [
       "accommodates                    0\n",
       "bathrooms                       0\n",
       "bedrooms                        0\n",
       "price                           0\n",
       "cleaning_fee                    0\n",
       "security_deposit                0\n",
       "extra_people                    0\n",
       "guests_included                 0\n",
       "distance                        0\n",
       "size                            0\n",
       "host_has_profile_pic            0\n",
       "neighbourhood_group_cleansed    0\n",
       "latitude                        0\n",
       "longitude                       0\n",
       "property_type                   0\n",
       "room_type                       0\n",
       "bed_type                        0\n",
       "amenities                       0\n",
       "minimum_nights                  0\n",
       "instant_bookable                0\n",
       "is_business_travel_ready        0\n",
       "cancellation_policy             0\n",
       "dtype: int64"
      ]
     },
     "execution_count": 105,
     "metadata": {},
     "output_type": "execute_result"
    }
   ],
   "source": [
    "df.isnull().sum()"
   ]
  },
  {
   "cell_type": "code",
   "execution_count": 106,
   "metadata": {},
   "outputs": [],
   "source": [
    "test_lemma = pd.read_csv('./lemma.csv')"
   ]
  },
  {
   "cell_type": "code",
   "execution_count": 107,
   "metadata": {},
   "outputs": [
    {
     "data": {
      "text/html": [
       "<div>\n",
       "<style scoped>\n",
       "    .dataframe tbody tr th:only-of-type {\n",
       "        vertical-align: middle;\n",
       "    }\n",
       "\n",
       "    .dataframe tbody tr th {\n",
       "        vertical-align: top;\n",
       "    }\n",
       "\n",
       "    .dataframe thead th {\n",
       "        text-align: right;\n",
       "    }\n",
       "</style>\n",
       "<table border=\"1\" class=\"dataframe\">\n",
       "  <thead>\n",
       "    <tr style=\"text-align: right;\">\n",
       "      <th></th>\n",
       "      <th>id</th>\n",
       "      <th>bag_of_words</th>\n",
       "    </tr>\n",
       "  </thead>\n",
       "  <tbody>\n",
       "    <tr>\n",
       "      <th>0</th>\n",
       "      <td>2015</td>\n",
       "      <td>great location 30 75 sq meter wood floor high ...</td>\n",
       "    </tr>\n",
       "    <tr>\n",
       "      <th>1</th>\n",
       "      <td>2695</td>\n",
       "      <td>summertime spending weekend little house garde...</td>\n",
       "    </tr>\n",
       "    <tr>\n",
       "      <th>2</th>\n",
       "      <td>3176</td>\n",
       "      <td>beautiful floor apartment situate kollwitzplat...</td>\n",
       "    </tr>\n",
       "    <tr>\n",
       "      <th>3</th>\n",
       "      <td>3309</td>\n",
       "      <td>prefer short notice booking request 1 2 week a...</td>\n",
       "    </tr>\n",
       "    <tr>\n",
       "      <th>4</th>\n",
       "      <td>7071</td>\n",
       "      <td>cozy large room beautiful district prenzlauer ...</td>\n",
       "    </tr>\n",
       "    <tr>\n",
       "      <th>...</th>\n",
       "      <td>...</td>\n",
       "      <td>...</td>\n",
       "    </tr>\n",
       "    <tr>\n",
       "      <th>22547</th>\n",
       "      <td>29856708</td>\n",
       "      <td>charming apartment right center close main tou...</td>\n",
       "    </tr>\n",
       "    <tr>\n",
       "      <th>22548</th>\n",
       "      <td>29857108</td>\n",
       "      <td>wohnung liegt unmittelbarer nähe viktoria luis...</td>\n",
       "    </tr>\n",
       "    <tr>\n",
       "      <th>22549</th>\n",
       "      <td>29864272</td>\n",
       "      <td>prenzlauer berg creative district plenty bar r...</td>\n",
       "    </tr>\n",
       "    <tr>\n",
       "      <th>22550</th>\n",
       "      <td>29866805</td>\n",
       "      <td>double room private shower wc design artist ro...</td>\n",
       "    </tr>\n",
       "    <tr>\n",
       "      <th>22551</th>\n",
       "      <td>29867352</td>\n",
       "      <td>sunny modern cozy 3-bedroom share flat heart v...</td>\n",
       "    </tr>\n",
       "  </tbody>\n",
       "</table>\n",
       "<p>22552 rows × 2 columns</p>\n",
       "</div>"
      ],
      "text/plain": [
       "             id                                       bag_of_words\n",
       "0          2015  great location 30 75 sq meter wood floor high ...\n",
       "1          2695  summertime spending weekend little house garde...\n",
       "2          3176  beautiful floor apartment situate kollwitzplat...\n",
       "3          3309  prefer short notice booking request 1 2 week a...\n",
       "4          7071  cozy large room beautiful district prenzlauer ...\n",
       "...         ...                                                ...\n",
       "22547  29856708  charming apartment right center close main tou...\n",
       "22548  29857108  wohnung liegt unmittelbarer nähe viktoria luis...\n",
       "22549  29864272  prenzlauer berg creative district plenty bar r...\n",
       "22550  29866805  double room private shower wc design artist ro...\n",
       "22551  29867352  sunny modern cozy 3-bedroom share flat heart v...\n",
       "\n",
       "[22552 rows x 2 columns]"
      ]
     },
     "execution_count": 107,
     "metadata": {},
     "output_type": "execute_result"
    }
   ],
   "source": [
    "test_lemma"
   ]
  },
  {
   "cell_type": "code",
   "execution_count": 113,
   "metadata": {},
   "outputs": [],
   "source": [
    "df = df.merge(test_lemma.set_index('id'), how = 'left', left_index=True, right_index=True)"
   ]
  },
  {
   "cell_type": "code",
   "execution_count": 114,
   "metadata": {},
   "outputs": [
    {
     "data": {
      "text/html": [
       "<div>\n",
       "<style scoped>\n",
       "    .dataframe tbody tr th:only-of-type {\n",
       "        vertical-align: middle;\n",
       "    }\n",
       "\n",
       "    .dataframe tbody tr th {\n",
       "        vertical-align: top;\n",
       "    }\n",
       "\n",
       "    .dataframe thead th {\n",
       "        text-align: right;\n",
       "    }\n",
       "</style>\n",
       "<table border=\"1\" class=\"dataframe\">\n",
       "  <thead>\n",
       "    <tr style=\"text-align: right;\">\n",
       "      <th></th>\n",
       "      <th>2015</th>\n",
       "      <th>2695</th>\n",
       "      <th>3176</th>\n",
       "      <th>3309</th>\n",
       "      <th>7071</th>\n",
       "    </tr>\n",
       "  </thead>\n",
       "  <tbody>\n",
       "    <tr>\n",
       "      <th>accommodates</th>\n",
       "      <td>3</td>\n",
       "      <td>2</td>\n",
       "      <td>4</td>\n",
       "      <td>2</td>\n",
       "      <td>2</td>\n",
       "    </tr>\n",
       "    <tr>\n",
       "      <th>bathrooms</th>\n",
       "      <td>1</td>\n",
       "      <td>1</td>\n",
       "      <td>1</td>\n",
       "      <td>1</td>\n",
       "      <td>1</td>\n",
       "    </tr>\n",
       "    <tr>\n",
       "      <th>bedrooms</th>\n",
       "      <td>1</td>\n",
       "      <td>1</td>\n",
       "      <td>1</td>\n",
       "      <td>1</td>\n",
       "      <td>1</td>\n",
       "    </tr>\n",
       "    <tr>\n",
       "      <th>price</th>\n",
       "      <td>60</td>\n",
       "      <td>17</td>\n",
       "      <td>90</td>\n",
       "      <td>26</td>\n",
       "      <td>42</td>\n",
       "    </tr>\n",
       "    <tr>\n",
       "      <th>cleaning_fee</th>\n",
       "      <td>30</td>\n",
       "      <td>0</td>\n",
       "      <td>50</td>\n",
       "      <td>30</td>\n",
       "      <td>0</td>\n",
       "    </tr>\n",
       "    <tr>\n",
       "      <th>security_deposit</th>\n",
       "      <td>200</td>\n",
       "      <td>0</td>\n",
       "      <td>200</td>\n",
       "      <td>250</td>\n",
       "      <td>0</td>\n",
       "    </tr>\n",
       "    <tr>\n",
       "      <th>extra_people</th>\n",
       "      <td>28</td>\n",
       "      <td>0</td>\n",
       "      <td>20</td>\n",
       "      <td>18</td>\n",
       "      <td>24</td>\n",
       "    </tr>\n",
       "    <tr>\n",
       "      <th>guests_included</th>\n",
       "      <td>1</td>\n",
       "      <td>1</td>\n",
       "      <td>2</td>\n",
       "      <td>1</td>\n",
       "      <td>1</td>\n",
       "    </tr>\n",
       "    <tr>\n",
       "      <th>distance</th>\n",
       "      <td>3.53318</td>\n",
       "      <td>5.08557</td>\n",
       "      <td>3.69568</td>\n",
       "      <td>3.75528</td>\n",
       "      <td>4.55042</td>\n",
       "    </tr>\n",
       "    <tr>\n",
       "      <th>size</th>\n",
       "      <td>75</td>\n",
       "      <td>25</td>\n",
       "      <td>68</td>\n",
       "      <td>26</td>\n",
       "      <td>20</td>\n",
       "    </tr>\n",
       "    <tr>\n",
       "      <th>host_has_profile_pic</th>\n",
       "      <td>t</td>\n",
       "      <td>t</td>\n",
       "      <td>t</td>\n",
       "      <td>t</td>\n",
       "      <td>t</td>\n",
       "    </tr>\n",
       "    <tr>\n",
       "      <th>neighbourhood_group_cleansed</th>\n",
       "      <td>Mitte</td>\n",
       "      <td>Pankow</td>\n",
       "      <td>Pankow</td>\n",
       "      <td>Tempelhof - Schöneberg</td>\n",
       "      <td>Pankow</td>\n",
       "    </tr>\n",
       "    <tr>\n",
       "      <th>latitude</th>\n",
       "      <td>52.5345</td>\n",
       "      <td>52.5485</td>\n",
       "      <td>52.535</td>\n",
       "      <td>52.4989</td>\n",
       "      <td>52.5432</td>\n",
       "    </tr>\n",
       "    <tr>\n",
       "      <th>longitude</th>\n",
       "      <td>13.4026</td>\n",
       "      <td>13.4046</td>\n",
       "      <td>13.4176</td>\n",
       "      <td>13.3491</td>\n",
       "      <td>13.4151</td>\n",
       "    </tr>\n",
       "    <tr>\n",
       "      <th>property_type</th>\n",
       "      <td>Guesthouse</td>\n",
       "      <td>Apartment</td>\n",
       "      <td>Apartment</td>\n",
       "      <td>Apartment</td>\n",
       "      <td>Apartment</td>\n",
       "    </tr>\n",
       "    <tr>\n",
       "      <th>room_type</th>\n",
       "      <td>Entire home/apt</td>\n",
       "      <td>Private room</td>\n",
       "      <td>Entire home/apt</td>\n",
       "      <td>Private room</td>\n",
       "      <td>Private room</td>\n",
       "    </tr>\n",
       "    <tr>\n",
       "      <th>bed_type</th>\n",
       "      <td>Real Bed</td>\n",
       "      <td>Real Bed</td>\n",
       "      <td>Real Bed</td>\n",
       "      <td>Pull-out Sofa</td>\n",
       "      <td>Real Bed</td>\n",
       "    </tr>\n",
       "    <tr>\n",
       "      <th>amenities</th>\n",
       "      <td>{TV,\"Cable TV\",Wifi,Kitchen,Gym,Heating,\"Famil...</td>\n",
       "      <td>{Wifi,Kitchen,Elevator,Heating,Washer,Essentia...</td>\n",
       "      <td>{Internet,Wifi,Kitchen,\"Buzzer/wireless interc...</td>\n",
       "      <td>{Internet,Wifi,\"Pets allowed\",\"Pets live on th...</td>\n",
       "      <td>{Wifi,Heating,\"Family/kid friendly\",Essentials...</td>\n",
       "    </tr>\n",
       "    <tr>\n",
       "      <th>minimum_nights</th>\n",
       "      <td>4</td>\n",
       "      <td>2</td>\n",
       "      <td>62</td>\n",
       "      <td>5</td>\n",
       "      <td>2</td>\n",
       "    </tr>\n",
       "    <tr>\n",
       "      <th>instant_bookable</th>\n",
       "      <td>f</td>\n",
       "      <td>f</td>\n",
       "      <td>t</td>\n",
       "      <td>f</td>\n",
       "      <td>f</td>\n",
       "    </tr>\n",
       "    <tr>\n",
       "      <th>is_business_travel_ready</th>\n",
       "      <td>f</td>\n",
       "      <td>f</td>\n",
       "      <td>f</td>\n",
       "      <td>f</td>\n",
       "      <td>f</td>\n",
       "    </tr>\n",
       "    <tr>\n",
       "      <th>cancellation_policy</th>\n",
       "      <td>strict_14_with_grace_period</td>\n",
       "      <td>flexible</td>\n",
       "      <td>strict_14_with_grace_period</td>\n",
       "      <td>strict_14_with_grace_period</td>\n",
       "      <td>moderate</td>\n",
       "    </tr>\n",
       "    <tr>\n",
       "      <th>bag_of_words</th>\n",
       "      <td>great location 30 75 sq meter wood floor high ...</td>\n",
       "      <td>summertime spending weekend little house garde...</td>\n",
       "      <td>beautiful floor apartment situate kollwitzplat...</td>\n",
       "      <td>prefer short notice booking request 1 2 week a...</td>\n",
       "      <td>cozy large room beautiful district prenzlauer ...</td>\n",
       "    </tr>\n",
       "  </tbody>\n",
       "</table>\n",
       "</div>"
      ],
      "text/plain": [
       "                                                                           2015  \\\n",
       "accommodates                                                                  3   \n",
       "bathrooms                                                                     1   \n",
       "bedrooms                                                                      1   \n",
       "price                                                                        60   \n",
       "cleaning_fee                                                                 30   \n",
       "security_deposit                                                            200   \n",
       "extra_people                                                                 28   \n",
       "guests_included                                                               1   \n",
       "distance                                                                3.53318   \n",
       "size                                                                         75   \n",
       "host_has_profile_pic                                                          t   \n",
       "neighbourhood_group_cleansed                                              Mitte   \n",
       "latitude                                                                52.5345   \n",
       "longitude                                                               13.4026   \n",
       "property_type                                                        Guesthouse   \n",
       "room_type                                                       Entire home/apt   \n",
       "bed_type                                                               Real Bed   \n",
       "amenities                     {TV,\"Cable TV\",Wifi,Kitchen,Gym,Heating,\"Famil...   \n",
       "minimum_nights                                                                4   \n",
       "instant_bookable                                                              f   \n",
       "is_business_travel_ready                                                      f   \n",
       "cancellation_policy                                 strict_14_with_grace_period   \n",
       "bag_of_words                  great location 30 75 sq meter wood floor high ...   \n",
       "\n",
       "                                                                           2695  \\\n",
       "accommodates                                                                  2   \n",
       "bathrooms                                                                     1   \n",
       "bedrooms                                                                      1   \n",
       "price                                                                        17   \n",
       "cleaning_fee                                                                  0   \n",
       "security_deposit                                                              0   \n",
       "extra_people                                                                  0   \n",
       "guests_included                                                               1   \n",
       "distance                                                                5.08557   \n",
       "size                                                                         25   \n",
       "host_has_profile_pic                                                          t   \n",
       "neighbourhood_group_cleansed                                             Pankow   \n",
       "latitude                                                                52.5485   \n",
       "longitude                                                               13.4046   \n",
       "property_type                                                         Apartment   \n",
       "room_type                                                          Private room   \n",
       "bed_type                                                               Real Bed   \n",
       "amenities                     {Wifi,Kitchen,Elevator,Heating,Washer,Essentia...   \n",
       "minimum_nights                                                                2   \n",
       "instant_bookable                                                              f   \n",
       "is_business_travel_ready                                                      f   \n",
       "cancellation_policy                                                    flexible   \n",
       "bag_of_words                  summertime spending weekend little house garde...   \n",
       "\n",
       "                                                                           3176  \\\n",
       "accommodates                                                                  4   \n",
       "bathrooms                                                                     1   \n",
       "bedrooms                                                                      1   \n",
       "price                                                                        90   \n",
       "cleaning_fee                                                                 50   \n",
       "security_deposit                                                            200   \n",
       "extra_people                                                                 20   \n",
       "guests_included                                                               2   \n",
       "distance                                                                3.69568   \n",
       "size                                                                         68   \n",
       "host_has_profile_pic                                                          t   \n",
       "neighbourhood_group_cleansed                                             Pankow   \n",
       "latitude                                                                 52.535   \n",
       "longitude                                                               13.4176   \n",
       "property_type                                                         Apartment   \n",
       "room_type                                                       Entire home/apt   \n",
       "bed_type                                                               Real Bed   \n",
       "amenities                     {Internet,Wifi,Kitchen,\"Buzzer/wireless interc...   \n",
       "minimum_nights                                                               62   \n",
       "instant_bookable                                                              t   \n",
       "is_business_travel_ready                                                      f   \n",
       "cancellation_policy                                 strict_14_with_grace_period   \n",
       "bag_of_words                  beautiful floor apartment situate kollwitzplat...   \n",
       "\n",
       "                                                                           3309  \\\n",
       "accommodates                                                                  2   \n",
       "bathrooms                                                                     1   \n",
       "bedrooms                                                                      1   \n",
       "price                                                                        26   \n",
       "cleaning_fee                                                                 30   \n",
       "security_deposit                                                            250   \n",
       "extra_people                                                                 18   \n",
       "guests_included                                                               1   \n",
       "distance                                                                3.75528   \n",
       "size                                                                         26   \n",
       "host_has_profile_pic                                                          t   \n",
       "neighbourhood_group_cleansed                             Tempelhof - Schöneberg   \n",
       "latitude                                                                52.4989   \n",
       "longitude                                                               13.3491   \n",
       "property_type                                                         Apartment   \n",
       "room_type                                                          Private room   \n",
       "bed_type                                                          Pull-out Sofa   \n",
       "amenities                     {Internet,Wifi,\"Pets allowed\",\"Pets live on th...   \n",
       "minimum_nights                                                                5   \n",
       "instant_bookable                                                              f   \n",
       "is_business_travel_ready                                                      f   \n",
       "cancellation_policy                                 strict_14_with_grace_period   \n",
       "bag_of_words                  prefer short notice booking request 1 2 week a...   \n",
       "\n",
       "                                                                           7071  \n",
       "accommodates                                                                  2  \n",
       "bathrooms                                                                     1  \n",
       "bedrooms                                                                      1  \n",
       "price                                                                        42  \n",
       "cleaning_fee                                                                  0  \n",
       "security_deposit                                                              0  \n",
       "extra_people                                                                 24  \n",
       "guests_included                                                               1  \n",
       "distance                                                                4.55042  \n",
       "size                                                                         20  \n",
       "host_has_profile_pic                                                          t  \n",
       "neighbourhood_group_cleansed                                             Pankow  \n",
       "latitude                                                                52.5432  \n",
       "longitude                                                               13.4151  \n",
       "property_type                                                         Apartment  \n",
       "room_type                                                          Private room  \n",
       "bed_type                                                               Real Bed  \n",
       "amenities                     {Wifi,Heating,\"Family/kid friendly\",Essentials...  \n",
       "minimum_nights                                                                2  \n",
       "instant_bookable                                                              f  \n",
       "is_business_travel_ready                                                      f  \n",
       "cancellation_policy                                                    moderate  \n",
       "bag_of_words                  cozy large room beautiful district prenzlauer ...  "
      ]
     },
     "execution_count": 114,
     "metadata": {},
     "output_type": "execute_result"
    }
   ],
   "source": [
    "df.head().T"
   ]
  },
  {
   "cell_type": "code",
   "execution_count": 117,
   "metadata": {},
   "outputs": [
    {
     "data": {
      "text/plain": [
       "'great location 30 75 sq meter wood floor high ceiling typical altbau section apartment consist 1 simple large room small kitchen bathroom + shower apartment mitte close prenzlauer berg mauerpark perfect short visit single couple section close rest big flat wich noticeable share space a+++ location einliegerwohnung extention large apartment separate entrance bathroom kitchen door rest apartment soundproof hide lock barely noticable mirror picture 30 sq meter face quiet courtyard wood floor high ceiling typical altbau apartment consist 1 large room large double bed optionally extra matress 3rd guest small kitchen suitable prepare simple meal bathroom + shower + bathtub course entrance linen '"
      ]
     },
     "execution_count": 117,
     "metadata": {},
     "output_type": "execute_result"
    }
   ],
   "source": [
    "df.bag_of_words.iloc[0]"
   ]
  },
  {
   "cell_type": "code",
   "execution_count": 132,
   "metadata": {},
   "outputs": [
    {
     "data": {
      "text/html": [
       "<div>\n",
       "<style scoped>\n",
       "    .dataframe tbody tr th:only-of-type {\n",
       "        vertical-align: middle;\n",
       "    }\n",
       "\n",
       "    .dataframe tbody tr th {\n",
       "        vertical-align: top;\n",
       "    }\n",
       "\n",
       "    .dataframe thead th {\n",
       "        text-align: right;\n",
       "    }\n",
       "</style>\n",
       "<table border=\"1\" class=\"dataframe\">\n",
       "  <thead>\n",
       "    <tr style=\"text-align: right;\">\n",
       "      <th></th>\n",
       "      <th>accommodates</th>\n",
       "      <th>bathrooms</th>\n",
       "      <th>bedrooms</th>\n",
       "      <th>price</th>\n",
       "      <th>cleaning_fee</th>\n",
       "      <th>security_deposit</th>\n",
       "      <th>extra_people</th>\n",
       "      <th>guests_included</th>\n",
       "      <th>distance</th>\n",
       "      <th>size</th>\n",
       "      <th>host_has_profile_pic</th>\n",
       "      <th>room_type</th>\n",
       "      <th>bed_type</th>\n",
       "      <th>minimum_nights</th>\n",
       "      <th>instant_bookable</th>\n",
       "      <th>is_business_travel_ready</th>\n",
       "      <th>cancellation_policy</th>\n",
       "    </tr>\n",
       "  </thead>\n",
       "  <tbody>\n",
       "    <tr>\n",
       "      <th>2015</th>\n",
       "      <td>3</td>\n",
       "      <td>1.0</td>\n",
       "      <td>1.0</td>\n",
       "      <td>60.0</td>\n",
       "      <td>30.0</td>\n",
       "      <td>200.0</td>\n",
       "      <td>28.0</td>\n",
       "      <td>1</td>\n",
       "      <td>3.533182</td>\n",
       "      <td>75.000000</td>\n",
       "      <td>t</td>\n",
       "      <td>Entire home/apt</td>\n",
       "      <td>Real Bed</td>\n",
       "      <td>4</td>\n",
       "      <td>f</td>\n",
       "      <td>f</td>\n",
       "      <td>strict_14_with_grace_period</td>\n",
       "    </tr>\n",
       "    <tr>\n",
       "      <th>2695</th>\n",
       "      <td>2</td>\n",
       "      <td>1.0</td>\n",
       "      <td>1.0</td>\n",
       "      <td>17.0</td>\n",
       "      <td>0.0</td>\n",
       "      <td>0.0</td>\n",
       "      <td>0.0</td>\n",
       "      <td>1</td>\n",
       "      <td>5.085573</td>\n",
       "      <td>25.000000</td>\n",
       "      <td>t</td>\n",
       "      <td>Private room</td>\n",
       "      <td>Real Bed</td>\n",
       "      <td>2</td>\n",
       "      <td>f</td>\n",
       "      <td>f</td>\n",
       "      <td>flexible</td>\n",
       "    </tr>\n",
       "    <tr>\n",
       "      <th>3176</th>\n",
       "      <td>4</td>\n",
       "      <td>1.0</td>\n",
       "      <td>1.0</td>\n",
       "      <td>90.0</td>\n",
       "      <td>50.0</td>\n",
       "      <td>200.0</td>\n",
       "      <td>20.0</td>\n",
       "      <td>2</td>\n",
       "      <td>3.695677</td>\n",
       "      <td>68.000000</td>\n",
       "      <td>t</td>\n",
       "      <td>Entire home/apt</td>\n",
       "      <td>Real Bed</td>\n",
       "      <td>62</td>\n",
       "      <td>t</td>\n",
       "      <td>f</td>\n",
       "      <td>strict_14_with_grace_period</td>\n",
       "    </tr>\n",
       "    <tr>\n",
       "      <th>3309</th>\n",
       "      <td>2</td>\n",
       "      <td>1.0</td>\n",
       "      <td>1.0</td>\n",
       "      <td>26.0</td>\n",
       "      <td>30.0</td>\n",
       "      <td>250.0</td>\n",
       "      <td>18.0</td>\n",
       "      <td>1</td>\n",
       "      <td>3.755285</td>\n",
       "      <td>26.000000</td>\n",
       "      <td>t</td>\n",
       "      <td>Private room</td>\n",
       "      <td>Pull-out Sofa</td>\n",
       "      <td>5</td>\n",
       "      <td>f</td>\n",
       "      <td>f</td>\n",
       "      <td>strict_14_with_grace_period</td>\n",
       "    </tr>\n",
       "    <tr>\n",
       "      <th>7071</th>\n",
       "      <td>2</td>\n",
       "      <td>1.0</td>\n",
       "      <td>1.0</td>\n",
       "      <td>42.0</td>\n",
       "      <td>0.0</td>\n",
       "      <td>0.0</td>\n",
       "      <td>24.0</td>\n",
       "      <td>1</td>\n",
       "      <td>4.550423</td>\n",
       "      <td>20.000000</td>\n",
       "      <td>t</td>\n",
       "      <td>Private room</td>\n",
       "      <td>Real Bed</td>\n",
       "      <td>2</td>\n",
       "      <td>f</td>\n",
       "      <td>f</td>\n",
       "      <td>moderate</td>\n",
       "    </tr>\n",
       "    <tr>\n",
       "      <th>14325</th>\n",
       "      <td>2</td>\n",
       "      <td>1.0</td>\n",
       "      <td>0.0</td>\n",
       "      <td>70.0</td>\n",
       "      <td>0.0</td>\n",
       "      <td>500.0</td>\n",
       "      <td>0.0</td>\n",
       "      <td>1</td>\n",
       "      <td>5.012297</td>\n",
       "      <td>56.697281</td>\n",
       "      <td>t</td>\n",
       "      <td>Entire home/apt</td>\n",
       "      <td>Real Bed</td>\n",
       "      <td>90</td>\n",
       "      <td>f</td>\n",
       "      <td>f</td>\n",
       "      <td>strict_14_with_grace_period</td>\n",
       "    </tr>\n",
       "    <tr>\n",
       "      <th>16401</th>\n",
       "      <td>2</td>\n",
       "      <td>1.0</td>\n",
       "      <td>1.0</td>\n",
       "      <td>120.0</td>\n",
       "      <td>0.0</td>\n",
       "      <td>0.0</td>\n",
       "      <td>13.0</td>\n",
       "      <td>1</td>\n",
       "      <td>3.733805</td>\n",
       "      <td>55.000000</td>\n",
       "      <td>t</td>\n",
       "      <td>Private room</td>\n",
       "      <td>Real Bed</td>\n",
       "      <td>30</td>\n",
       "      <td>f</td>\n",
       "      <td>f</td>\n",
       "      <td>strict_14_with_grace_period</td>\n",
       "    </tr>\n",
       "    <tr>\n",
       "      <th>16644</th>\n",
       "      <td>5</td>\n",
       "      <td>1.0</td>\n",
       "      <td>1.0</td>\n",
       "      <td>90.0</td>\n",
       "      <td>50.0</td>\n",
       "      <td>500.0</td>\n",
       "      <td>20.0</td>\n",
       "      <td>2</td>\n",
       "      <td>2.105810</td>\n",
       "      <td>80.000000</td>\n",
       "      <td>t</td>\n",
       "      <td>Entire home/apt</td>\n",
       "      <td>Real Bed</td>\n",
       "      <td>60</td>\n",
       "      <td>f</td>\n",
       "      <td>f</td>\n",
       "      <td>strict_14_with_grace_period</td>\n",
       "    </tr>\n",
       "    <tr>\n",
       "      <th>17409</th>\n",
       "      <td>2</td>\n",
       "      <td>1.0</td>\n",
       "      <td>1.0</td>\n",
       "      <td>45.0</td>\n",
       "      <td>18.0</td>\n",
       "      <td>0.0</td>\n",
       "      <td>26.0</td>\n",
       "      <td>1</td>\n",
       "      <td>2.982036</td>\n",
       "      <td>25.000000</td>\n",
       "      <td>t</td>\n",
       "      <td>Private room</td>\n",
       "      <td>Real Bed</td>\n",
       "      <td>3</td>\n",
       "      <td>f</td>\n",
       "      <td>f</td>\n",
       "      <td>strict_14_with_grace_period</td>\n",
       "    </tr>\n",
       "    <tr>\n",
       "      <th>20858</th>\n",
       "      <td>4</td>\n",
       "      <td>1.0</td>\n",
       "      <td>2.0</td>\n",
       "      <td>129.0</td>\n",
       "      <td>49.0</td>\n",
       "      <td>500.0</td>\n",
       "      <td>24.0</td>\n",
       "      <td>2</td>\n",
       "      <td>3.807207</td>\n",
       "      <td>97.756906</td>\n",
       "      <td>t</td>\n",
       "      <td>Entire home/apt</td>\n",
       "      <td>Real Bed</td>\n",
       "      <td>3</td>\n",
       "      <td>f</td>\n",
       "      <td>f</td>\n",
       "      <td>strict_14_with_grace_period</td>\n",
       "    </tr>\n",
       "  </tbody>\n",
       "</table>\n",
       "</div>"
      ],
      "text/plain": [
       "       accommodates  bathrooms  bedrooms  price  cleaning_fee  \\\n",
       "2015              3        1.0       1.0   60.0          30.0   \n",
       "2695              2        1.0       1.0   17.0           0.0   \n",
       "3176              4        1.0       1.0   90.0          50.0   \n",
       "3309              2        1.0       1.0   26.0          30.0   \n",
       "7071              2        1.0       1.0   42.0           0.0   \n",
       "14325             2        1.0       0.0   70.0           0.0   \n",
       "16401             2        1.0       1.0  120.0           0.0   \n",
       "16644             5        1.0       1.0   90.0          50.0   \n",
       "17409             2        1.0       1.0   45.0          18.0   \n",
       "20858             4        1.0       2.0  129.0          49.0   \n",
       "\n",
       "       security_deposit  extra_people  guests_included  distance       size  \\\n",
       "2015              200.0          28.0                1  3.533182  75.000000   \n",
       "2695                0.0           0.0                1  5.085573  25.000000   \n",
       "3176              200.0          20.0                2  3.695677  68.000000   \n",
       "3309              250.0          18.0                1  3.755285  26.000000   \n",
       "7071                0.0          24.0                1  4.550423  20.000000   \n",
       "14325             500.0           0.0                1  5.012297  56.697281   \n",
       "16401               0.0          13.0                1  3.733805  55.000000   \n",
       "16644             500.0          20.0                2  2.105810  80.000000   \n",
       "17409               0.0          26.0                1  2.982036  25.000000   \n",
       "20858             500.0          24.0                2  3.807207  97.756906   \n",
       "\n",
       "      host_has_profile_pic        room_type       bed_type  minimum_nights  \\\n",
       "2015                     t  Entire home/apt       Real Bed               4   \n",
       "2695                     t     Private room       Real Bed               2   \n",
       "3176                     t  Entire home/apt       Real Bed              62   \n",
       "3309                     t     Private room  Pull-out Sofa               5   \n",
       "7071                     t     Private room       Real Bed               2   \n",
       "14325                    t  Entire home/apt       Real Bed              90   \n",
       "16401                    t     Private room       Real Bed              30   \n",
       "16644                    t  Entire home/apt       Real Bed              60   \n",
       "17409                    t     Private room       Real Bed               3   \n",
       "20858                    t  Entire home/apt       Real Bed               3   \n",
       "\n",
       "      instant_bookable is_business_travel_ready          cancellation_policy  \n",
       "2015                 f                        f  strict_14_with_grace_period  \n",
       "2695                 f                        f                     flexible  \n",
       "3176                 t                        f  strict_14_with_grace_period  \n",
       "3309                 f                        f  strict_14_with_grace_period  \n",
       "7071                 f                        f                     moderate  \n",
       "14325                f                        f  strict_14_with_grace_period  \n",
       "16401                f                        f  strict_14_with_grace_period  \n",
       "16644                f                        f  strict_14_with_grace_period  \n",
       "17409                f                        f  strict_14_with_grace_period  \n",
       "20858                f                        f  strict_14_with_grace_period  "
      ]
     },
     "execution_count": 132,
     "metadata": {},
     "output_type": "execute_result"
    }
   ],
   "source": [
    "df_test = df.drop(['latitude', 'longitude', 'neighbourhood_group_cleansed', 'property_type', 'bag_of_words', 'amenities'], axis=1).copy()\n",
    "\n",
    "for col in ['host_has_profile_pic', 'room_type', 'bed_type', 'instant_bookable', \n",
    "            'is_business_travel_ready', 'cancellation_policy']:\n",
    "    df_test[col] = df_test[col].astype('category')\n",
    "\n",
    "df_test.head(10)"
   ]
  },
  {
   "cell_type": "code",
   "execution_count": 136,
   "metadata": {},
   "outputs": [],
   "source": [
    "target = df_test[[\"price\"]]\n",
    "\n",
    "# define our features \n",
    "features = df_test.drop([\"price\"], axis=1)\n",
    "\n",
    "from sklearn.preprocessing import OrdinalEncoder\n",
    "\n",
    "enc = OrdinalEncoder()\n",
    "\n",
    "X = enc.fit_transform(features)"
   ]
  },
  {
   "cell_type": "code",
   "execution_count": 137,
   "metadata": {},
   "outputs": [
    {
     "data": {
      "text/plain": [
       "(21958, 16)"
      ]
     },
     "execution_count": 137,
     "metadata": {},
     "output_type": "execute_result"
    }
   ],
   "source": [
    "X.shape"
   ]
  },
  {
   "cell_type": "code",
   "execution_count": 142,
   "metadata": {},
   "outputs": [],
   "source": [
    "# import train_test_split function\n",
    "from sklearn.model_selection import train_test_split\n",
    "# import metrics\n",
    "from sklearn.metrics import mean_squared_error, r2_score\n",
    "\n",
    "# split our data\n",
    "X_train, X_test, y_train, y_test = train_test_split(X, target, test_size=0.2)\n",
    "\n",
    "from sklearn.preprocessing import StandardScaler\n",
    "sc = StandardScaler()\n",
    "X_train = sc.fit_transform(X_train)\n",
    "X_test  = sc.transform(X_test)"
   ]
  },
  {
   "cell_type": "code",
   "execution_count": 150,
   "metadata": {},
   "outputs": [
    {
     "name": "stdout",
     "output_type": "stream",
     "text": [
      "Fitting 3 folds for each of 405 candidates, totalling 1215 fits\n"
     ]
    },
    {
     "name": "stderr",
     "output_type": "stream",
     "text": [
      "[Parallel(n_jobs=4)]: Using backend LokyBackend with 4 concurrent workers.\n",
      "[Parallel(n_jobs=4)]: Done   5 tasks      | elapsed:    5.0s\n",
      "[Parallel(n_jobs=4)]: Done  10 tasks      | elapsed:    8.0s\n",
      "[Parallel(n_jobs=4)]: Done  17 tasks      | elapsed:   14.8s\n",
      "[Parallel(n_jobs=4)]: Done  24 tasks      | elapsed:   20.8s\n",
      "[Parallel(n_jobs=4)]: Done  33 tasks      | elapsed:   36.6s\n",
      "[Parallel(n_jobs=4)]: Done  42 tasks      | elapsed:  1.0min\n",
      "[Parallel(n_jobs=4)]: Done  53 tasks      | elapsed:  1.2min\n",
      "[Parallel(n_jobs=4)]: Done  64 tasks      | elapsed:  1.4min\n",
      "[Parallel(n_jobs=4)]: Done  77 tasks      | elapsed:  1.7min\n",
      "[Parallel(n_jobs=4)]: Done  90 tasks      | elapsed:  2.2min\n",
      "[Parallel(n_jobs=4)]: Done 105 tasks      | elapsed:  2.4min\n",
      "[Parallel(n_jobs=4)]: Done 120 tasks      | elapsed:  2.7min\n",
      "[Parallel(n_jobs=4)]: Done 137 tasks      | elapsed:  3.3min\n",
      "[Parallel(n_jobs=4)]: Done 154 tasks      | elapsed:  3.5min\n",
      "[Parallel(n_jobs=4)]: Done 173 tasks      | elapsed:  4.1min\n",
      "[Parallel(n_jobs=4)]: Done 192 tasks      | elapsed:  4.5min\n",
      "[Parallel(n_jobs=4)]: Done 213 tasks      | elapsed:  5.0min\n",
      "[Parallel(n_jobs=4)]: Done 234 tasks      | elapsed:  5.6min\n",
      "[Parallel(n_jobs=4)]: Done 257 tasks      | elapsed:  6.0min\n",
      "[Parallel(n_jobs=4)]: Done 280 tasks      | elapsed:  6.6min\n",
      "[Parallel(n_jobs=4)]: Done 305 tasks      | elapsed:  7.2min\n",
      "[Parallel(n_jobs=4)]: Done 330 tasks      | elapsed:  7.8min\n",
      "[Parallel(n_jobs=4)]: Done 357 tasks      | elapsed:  8.6min\n",
      "[Parallel(n_jobs=4)]: Done 384 tasks      | elapsed:  9.0min\n",
      "[Parallel(n_jobs=4)]: Done 413 tasks      | elapsed:  9.9min\n",
      "[Parallel(n_jobs=4)]: Done 442 tasks      | elapsed: 10.5min\n",
      "[Parallel(n_jobs=4)]: Done 473 tasks      | elapsed: 11.2min\n",
      "[Parallel(n_jobs=4)]: Done 504 tasks      | elapsed: 12.0min\n",
      "[Parallel(n_jobs=4)]: Done 537 tasks      | elapsed: 12.8min\n",
      "[Parallel(n_jobs=4)]: Done 570 tasks      | elapsed: 13.4min\n",
      "[Parallel(n_jobs=4)]: Done 605 tasks      | elapsed: 14.3min\n",
      "[Parallel(n_jobs=4)]: Done 640 tasks      | elapsed: 15.3min\n",
      "[Parallel(n_jobs=4)]: Done 677 tasks      | elapsed: 16.2min\n",
      "[Parallel(n_jobs=4)]: Done 714 tasks      | elapsed: 17.0min\n",
      "[Parallel(n_jobs=4)]: Done 753 tasks      | elapsed: 17.9min\n",
      "[Parallel(n_jobs=4)]: Done 792 tasks      | elapsed: 18.8min\n",
      "[Parallel(n_jobs=4)]: Done 833 tasks      | elapsed: 19.7min\n",
      "[Parallel(n_jobs=4)]: Done 874 tasks      | elapsed: 20.7min\n",
      "[Parallel(n_jobs=4)]: Done 917 tasks      | elapsed: 21.7min\n",
      "[Parallel(n_jobs=4)]: Done 960 tasks      | elapsed: 22.7min\n",
      "[Parallel(n_jobs=4)]: Done 1005 tasks      | elapsed: 23.8min\n",
      "[Parallel(n_jobs=4)]: Done 1050 tasks      | elapsed: 24.9min\n",
      "[Parallel(n_jobs=4)]: Done 1097 tasks      | elapsed: 25.9min\n",
      "[Parallel(n_jobs=4)]: Done 1144 tasks      | elapsed: 27.0min\n",
      "[Parallel(n_jobs=4)]: Done 1193 tasks      | elapsed: 28.1min\n",
      "[Parallel(n_jobs=4)]: Done 1215 out of 1215 | elapsed: 28.8min finished\n"
     ]
    },
    {
     "name": "stdout",
     "output_type": "stream",
     "text": [
      "[20:01:44] WARNING: C:/Jenkins/workspace/xgboost-win64_release_0.90/src/objective/regression_obj.cu:152: reg:linear is now deprecated in favor of reg:squarederror.\n",
      "{'colsample_bytree': 0.6, 'gamma': 0.0, 'learning_rate': 0.1, 'max_depth': 7, 'n_estimators': 200, 'tree_method': 'gpu_hist'}\n"
     ]
    }
   ],
   "source": [
    "import xgboost as xgb\n",
    "\n",
    "booster = xgb.XGBRegressor()\n",
    "\n",
    "from sklearn.model_selection import GridSearchCV\n",
    "\n",
    "# create Grid\n",
    "param_grid = {'n_estimators': [100, 150, 200],\n",
    "              'learning_rate': [0.01, 0.05, 0.1], \n",
    "              'max_depth': [3, 4, 5, 6, 7],\n",
    "              'colsample_bytree': [0.6, 0.7, 1],\n",
    "              'gamma': [0.0, 0.1, 0.2],\n",
    "              'tree_method': ['gpu_hist']}\n",
    "\n",
    "# instantiate the tuned random forest\n",
    "booster_grid_search = GridSearchCV(booster, param_grid, cv=3, n_jobs=4, verbose=10)\n",
    "\n",
    "# train the tuned random forest\n",
    "booster_grid_search.fit(X_train, y_train)\n",
    "\n",
    "# print best estimator parameters found during the grid search\n",
    "print(booster_grid_search.best_params_)"
   ]
  },
  {
   "cell_type": "code",
   "execution_count": 151,
   "metadata": {},
   "outputs": [
    {
     "name": "stdout",
     "output_type": "stream",
     "text": [
      "[20:01:47] WARNING: C:/Jenkins/workspace/xgboost-win64_release_0.90/src/objective/regression_obj.cu:152: reg:linear is now deprecated in favor of reg:squarederror.\n"
     ]
    }
   ],
   "source": [
    "import joblib\n",
    "#save model\n",
    "joblib.dump(booster_grid_search, 'test1_baseline.pkl') \n",
    "\n",
    "#load saved model\n",
    "xgb = joblib.load('test1_baseline.pkl')"
   ]
  },
  {
   "cell_type": "code",
   "execution_count": 152,
   "metadata": {},
   "outputs": [],
   "source": [
    "y_pred = xgb.predict(X_test)"
   ]
  },
  {
   "cell_type": "code",
   "execution_count": 153,
   "metadata": {},
   "outputs": [
    {
     "data": {
      "text/plain": [
       "614.4235512245385"
      ]
     },
     "execution_count": 153,
     "metadata": {},
     "output_type": "execute_result"
    }
   ],
   "source": [
    "error = mean_squared_error(y_test, y_pred)\n",
    "error"
   ]
  },
  {
   "cell_type": "code",
   "execution_count": 154,
   "metadata": {},
   "outputs": [
    {
     "data": {
      "text/plain": [
       "0.6688743592837318"
      ]
     },
     "execution_count": 154,
     "metadata": {},
     "output_type": "execute_result"
    }
   ],
   "source": [
    "score = r2_score(y_test, y_pred)\n",
    "score"
   ]
  },
  {
   "cell_type": "code",
   "execution_count": 155,
   "metadata": {},
   "outputs": [
    {
     "data": {
      "text/plain": [
       "array([ 0.26229053, -0.29481738, -0.24359457,  0.59411334,  0.58397699,\n",
       "        0.59834744, -0.40066681, -0.4858534 ,  0.55786551,  0.05903151,\n",
       "       -1.03691302,  0.16967069, -0.23666555,  1.49578595,  0.        ,\n",
       "        0.14909806])"
      ]
     },
     "execution_count": 155,
     "metadata": {},
     "output_type": "execute_result"
    }
   ],
   "source": [
    "X_test[0]"
   ]
  },
  {
   "cell_type": "code",
   "execution_count": 168,
   "metadata": {},
   "outputs": [
    {
     "data": {
      "text/plain": [
       "array([3, 1.0, 1.0, 30.0, 150.0, 15.0, 1, 3.535059047079082,\n",
       "       57.89136158218128, 't', 'Entire home/apt', 'Real Bed', 3, 't', 'f',\n",
       "       'moderate'], dtype=object)"
      ]
     },
     "execution_count": 168,
     "metadata": {},
     "output_type": "execute_result"
    }
   ],
   "source": [
    "enc.inverse_transform(sc.inverse_transform(X_test[0]).reshape(1,-1))[0]"
   ]
  },
  {
   "cell_type": "code",
   "execution_count": 167,
   "metadata": {},
   "outputs": [
    {
     "data": {
      "text/plain": [
       "['ordinal_necoder1.pkl']"
      ]
     },
     "execution_count": 167,
     "metadata": {},
     "output_type": "execute_result"
    }
   ],
   "source": [
    "joblib.dump(sc, 'standard_scaler1.pkl')\n",
    "joblib.dump(enc, 'ordinal_necoder1.pkl') "
   ]
  },
  {
   "cell_type": "code",
   "execution_count": 169,
   "metadata": {},
   "outputs": [],
   "source": [
    "sc_test = joblib.load('standard_scaler1.pkl')\n",
    "enc_test = joblib.load('ordinal_necoder1.pkl')"
   ]
  },
  {
   "cell_type": "code",
   "execution_count": 170,
   "metadata": {},
   "outputs": [
    {
     "data": {
      "text/plain": [
       "array([3, 1.0, 1.0, 30.0, 150.0, 15.0, 1, 3.535059047079082,\n",
       "       57.89136158218128, 't', 'Entire home/apt', 'Real Bed', 3, 't', 'f',\n",
       "       'moderate'], dtype=object)"
      ]
     },
     "execution_count": 170,
     "metadata": {},
     "output_type": "execute_result"
    }
   ],
   "source": [
    "enc_test.inverse_transform(sc_test.inverse_transform(X_test[0]).reshape(1,-1))[0]"
   ]
  }
 ],
 "metadata": {
  "kernelspec": {
   "display_name": "Python 3",
   "language": "python",
   "name": "python3"
  },
  "language_info": {
   "codemirror_mode": {
    "name": "ipython",
    "version": 3
   },
   "file_extension": ".py",
   "mimetype": "text/x-python",
   "name": "python",
   "nbconvert_exporter": "python",
   "pygments_lexer": "ipython3",
   "version": "3.7.5"
  }
 },
 "nbformat": 4,
 "nbformat_minor": 4
}
