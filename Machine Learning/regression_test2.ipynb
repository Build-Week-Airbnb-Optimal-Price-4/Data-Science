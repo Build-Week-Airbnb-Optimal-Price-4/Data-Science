{
 "cells": [
  {
   "cell_type": "code",
   "execution_count": 1,
   "metadata": {},
   "outputs": [],
   "source": [
    "import pandas as pd\n",
    "import zipfile\n",
    "\n",
    "\n",
    "zf = zipfile.ZipFile('./berlin-airbnb-data.zip')\n",
    "\n",
    "file_names = zf.namelist()\n",
    "\n",
    "\n",
    "# calendar_summary = pd.read_csv(zf.open(file_names[0]))\n",
    "\n",
    "# listings = pd.read_csv(zf.open(file_names[1]))\n",
    "\n",
    "listings_summary = pd.read_csv(zf.open(file_names[2]))\n",
    "\n",
    "# neighbourhoods = pd.read_csv(zf.open(file_names[3]))\n",
    "\n",
    "# reviews = pd.read_csv(zf.open(file_names[4]))\n",
    "\n",
    "# reviews_summary = pd.read_csv(zf.open(file_names[5]))"
   ]
  },
  {
   "cell_type": "code",
   "execution_count": 2,
   "metadata": {},
   "outputs": [
    {
     "data": {
      "text/plain": [
       "(22552, 22)"
      ]
     },
     "execution_count": 2,
     "metadata": {},
     "output_type": "execute_result"
    }
   ],
   "source": [
    "columns_to_keep = ['id', 'space', 'description', 'host_has_profile_pic', 'neighbourhood_group_cleansed', \n",
    "                   'latitude', 'longitude', 'property_type', 'room_type', 'accommodates', 'bathrooms',  \n",
    "                   'bedrooms', 'bed_type', 'amenities', 'price', 'cleaning_fee', \n",
    "                   'security_deposit', 'extra_people', 'guests_included', 'minimum_nights',  \n",
    "                   'instant_bookable', 'is_business_travel_ready', 'cancellation_policy']\n",
    "\n",
    "df = listings_summary[columns_to_keep].set_index('id')\n",
    "df.shape"
   ]
  },
  {
   "cell_type": "code",
   "execution_count": 3,
   "metadata": {},
   "outputs": [],
   "source": [
    "df['size'] = df['description'].str.extract('(\\d{2,3}\\s?[smSM])', expand=True)\n",
    "df['size'] = df['size'].str.replace(\"\\D\", \"\")\n",
    "\n",
    "# change datatype of size into float\n",
    "df['size'] = df['size'].astype(float)"
   ]
  },
  {
   "cell_type": "code",
   "execution_count": 4,
   "metadata": {},
   "outputs": [],
   "source": [
    "df.cleaning_fee.fillna('$0.00', inplace=True)\n",
    "df.security_deposit.fillna('$0.00', inplace=True)\n",
    "df.host_has_profile_pic.fillna('f', inplace=True)\n",
    "\n",
    "df.price = df.price.str.replace('$', '').str.replace(',', '').astype(float)\n",
    "df.cleaning_fee = df.cleaning_fee.str.replace('$', '').str.replace(',', '').astype(float)\n",
    "df.security_deposit = df.security_deposit.str.replace('$', '').str.replace(',', '').astype(float)\n",
    "df.extra_people = df.extra_people.str.replace('$', '').str.replace(',', '').astype(float)\n",
    "\n",
    "df.drop(df[ (df.price > 400) | (df.price == 0) ].index, axis=0, inplace=True)"
   ]
  },
  {
   "cell_type": "code",
   "execution_count": 5,
   "metadata": {},
   "outputs": [],
   "source": [
    "from geopy.distance import great_circle\n",
    "\n",
    "def distance_to_mid(lat, lon):\n",
    "    berlin_centre = (52.5027778, 13.404166666666667)\n",
    "    accommodation = (lat, lon)\n",
    "    return great_circle(berlin_centre, accommodation).km\n",
    "\n",
    "df['distance'] = df.apply(lambda x: distance_to_mid(x.latitude, x.longitude), axis=1)"
   ]
  },
  {
   "cell_type": "code",
   "execution_count": 6,
   "metadata": {},
   "outputs": [],
   "source": [
    "df.dropna(subset=['bathrooms', 'bedrooms'], inplace=True)"
   ]
  },
  {
   "cell_type": "code",
   "execution_count": 7,
   "metadata": {},
   "outputs": [],
   "source": [
    "sub_df = df[['accommodates', 'bathrooms', 'bedrooms',  'price', 'cleaning_fee', \n",
    "                 'security_deposit', 'extra_people', 'guests_included', 'distance', 'size']]\n",
    "\n",
    "train_data = sub_df[sub_df['size'].notnull()]\n",
    "test_data  = sub_df[sub_df['size'].isnull()]\n",
    "\n",
    "# define X\n",
    "X_train = train_data.drop('size', axis=1)\n",
    "X_test  = test_data.drop('size', axis=1)\n",
    "\n",
    "# define y\n",
    "y_train = train_data['size']\n",
    "\n",
    "# import Linear Regression\n",
    "from sklearn.linear_model import LinearRegression\n",
    "\n",
    "# instantiate\n",
    "linreg = LinearRegression()\n",
    "\n",
    "# fit model to training data\n",
    "linreg.fit(X_train, y_train)\n",
    "\n",
    "y_test = linreg.predict(X_test)"
   ]
  },
  {
   "cell_type": "code",
   "execution_count": 8,
   "metadata": {},
   "outputs": [],
   "source": [
    "y_test = pd.DataFrame(y_test)\n",
    "y_test.columns = ['size']\n",
    "\n",
    "# make the index of X_test to an own dataframe\n",
    "prelim_index = pd.DataFrame(X_test.index)\n",
    "prelim_index.columns = ['prelim']\n",
    "\n",
    "# ... and concat this dataframe with y_test\n",
    "y_test = pd.concat([y_test, prelim_index], axis=1)\n",
    "y_test.set_index(['prelim'], inplace=True)\n",
    "\n",
    "new_test_data = pd.concat([X_test, y_test], axis=1)\n",
    "\n",
    "sub_df_new = pd.concat([new_test_data, train_data], axis=0)\n",
    "\n",
    "df.drop(['accommodates', 'bathrooms', 'bedrooms', 'price', 'cleaning_fee', \n",
    "             'security_deposit', 'extra_people', 'guests_included', 'distance', 'size'], \n",
    "            axis=1, inplace=True)\n",
    "\n",
    "df = pd.concat([sub_df_new, df], axis=1)"
   ]
  },
  {
   "cell_type": "code",
   "execution_count": 9,
   "metadata": {},
   "outputs": [],
   "source": [
    "df.drop(df[ (df['size'] == 0.) | (df['size'] > 300.) ].index, axis=0, inplace=True)"
   ]
  },
  {
   "cell_type": "code",
   "execution_count": 10,
   "metadata": {},
   "outputs": [],
   "source": [
    "df.drop(columns=['space', 'description'], inplace = True)"
   ]
  },
  {
   "cell_type": "code",
   "execution_count": 11,
   "metadata": {},
   "outputs": [
    {
     "data": {
      "text/plain": [
       "accommodates                    0\n",
       "bathrooms                       0\n",
       "bedrooms                        0\n",
       "price                           0\n",
       "cleaning_fee                    0\n",
       "security_deposit                0\n",
       "extra_people                    0\n",
       "guests_included                 0\n",
       "distance                        0\n",
       "size                            0\n",
       "host_has_profile_pic            0\n",
       "neighbourhood_group_cleansed    0\n",
       "latitude                        0\n",
       "longitude                       0\n",
       "property_type                   0\n",
       "room_type                       0\n",
       "bed_type                        0\n",
       "amenities                       0\n",
       "minimum_nights                  0\n",
       "instant_bookable                0\n",
       "is_business_travel_ready        0\n",
       "cancellation_policy             0\n",
       "dtype: int64"
      ]
     },
     "execution_count": 11,
     "metadata": {},
     "output_type": "execute_result"
    }
   ],
   "source": [
    "df.isnull().sum()"
   ]
  },
  {
   "cell_type": "code",
   "execution_count": 12,
   "metadata": {},
   "outputs": [
    {
     "data": {
      "text/plain": [
       "(21958, 22)"
      ]
     },
     "execution_count": 12,
     "metadata": {},
     "output_type": "execute_result"
    }
   ],
   "source": [
    "df.shape"
   ]
  },
  {
   "cell_type": "code",
   "execution_count": 13,
   "metadata": {},
   "outputs": [],
   "source": [
    "test_lemma = pd.read_csv('./lemma.csv')"
   ]
  },
  {
   "cell_type": "code",
   "execution_count": 14,
   "metadata": {},
   "outputs": [],
   "source": [
    "df = df.merge(test_lemma.set_index('id'), how = 'left', left_index=True, right_index=True)"
   ]
  },
  {
   "cell_type": "code",
   "execution_count": 15,
   "metadata": {},
   "outputs": [
    {
     "data": {
      "text/plain": [
       "(21958, 23)"
      ]
     },
     "execution_count": 15,
     "metadata": {},
     "output_type": "execute_result"
    }
   ],
   "source": [
    "df.shape"
   ]
  },
  {
   "cell_type": "code",
   "execution_count": 16,
   "metadata": {},
   "outputs": [
    {
     "data": {
      "text/plain": [
       "(21945, 18)"
      ]
     },
     "execution_count": 16,
     "metadata": {},
     "output_type": "execute_result"
    }
   ],
   "source": [
    "df_test = df.drop(['latitude', 'longitude', 'neighbourhood_group_cleansed', 'property_type', 'amenities'], axis=1).copy()\n",
    "\n",
    "df_test.dropna(subset=['bag_of_words'], inplace=True)\n",
    "\n",
    "for col in ['host_has_profile_pic', 'room_type', 'bed_type', 'instant_bookable', \n",
    "            'is_business_travel_ready', 'cancellation_policy']:\n",
    "    df_test[col] = df_test[col].astype('category')\n",
    "\n",
    "df_test.shape"
   ]
  },
  {
   "cell_type": "code",
   "execution_count": 17,
   "metadata": {},
   "outputs": [],
   "source": [
    "target = df_test[[\"price\"]]\n",
    "\n",
    "# define our features \n",
    "features = df_test.drop([\"price\"], axis=1)"
   ]
  },
  {
   "cell_type": "code",
   "execution_count": 18,
   "metadata": {},
   "outputs": [
    {
     "data": {
      "text/plain": [
       "['accommodates',\n",
       " 'bathrooms',\n",
       " 'bedrooms',\n",
       " 'cleaning_fee',\n",
       " 'security_deposit',\n",
       " 'extra_people',\n",
       " 'guests_included',\n",
       " 'distance',\n",
       " 'size',\n",
       " 'minimum_nights']"
      ]
     },
     "execution_count": 18,
     "metadata": {},
     "output_type": "execute_result"
    }
   ],
   "source": [
    "number_columns = features.select_dtypes(include=['number']).columns.tolist()\n",
    "number_columns"
   ]
  },
  {
   "cell_type": "code",
   "execution_count": 19,
   "metadata": {},
   "outputs": [
    {
     "name": "stdout",
     "output_type": "stream",
     "text": [
      "[18:15:30] WARNING: C:/Jenkins/workspace/xgboost-win64_release_0.90/src/objective/regression_obj.cu:152: reg:linear is now deprecated in favor of reg:squarederror.\n"
     ]
    },
    {
     "data": {
      "text/plain": [
       "Pipeline(memory=None,\n",
       "         steps=[('preprocessor',\n",
       "                 ColumnTransformer(n_jobs=None, remainder='passthrough',\n",
       "                                   sparse_threshold=0.3,\n",
       "                                   transformer_weights=None,\n",
       "                                   transformers=[('text',\n",
       "                                                  CountVectorizer(analyzer='word',\n",
       "                                                                  binary=False,\n",
       "                                                                  decode_error='strict',\n",
       "                                                                  dtype=<class 'numpy.int64'>,\n",
       "                                                                  encoding='utf-8',\n",
       "                                                                  input='content',\n",
       "                                                                  lowercase=True,\n",
       "                                                                  max_df=0.99,\n",
       "                                                                  max_features=None,\n",
       "                                                                  min_df=0.2,\n",
       "                                                                  n...\n",
       "                              colsample_bylevel=1, colsample_bynode=1,\n",
       "                              colsample_bytree=0.6, gamma=0.0,\n",
       "                              importance_type='gain', learning_rate=0.1,\n",
       "                              max_delta_step=0, max_depth=7, min_child_weight=1,\n",
       "                              missing=None, n_estimators=200, n_jobs=1,\n",
       "                              nthread=None, objective='reg:linear',\n",
       "                              random_state=0, reg_alpha=0, reg_lambda=1,\n",
       "                              scale_pos_weight=1, seed=None, silent=None,\n",
       "                              subsample=1, tree_method='gpu_hist',\n",
       "                              verbosity=1))],\n",
       "         verbose=False)"
      ]
     },
     "execution_count": 19,
     "metadata": {},
     "output_type": "execute_result"
    }
   ],
   "source": [
    "from sklearn.pipeline import Pipeline\n",
    "from sklearn.feature_extraction.text import CountVectorizer\n",
    "from sklearn.compose import ColumnTransformer\n",
    "from sklearn.preprocessing import OrdinalEncoder\n",
    "from sklearn.preprocessing import StandardScaler\n",
    "import xgboost as xgb\n",
    "\n",
    "from sklearn.model_selection import train_test_split\n",
    "# import metrics\n",
    "from sklearn.metrics import mean_squared_error, r2_score\n",
    "\n",
    "# split our data\n",
    "X_train, X_test, y_train, y_test = train_test_split(features, target, test_size=0.2)\n",
    "\n",
    "\n",
    "vect = CountVectorizer(analyzer='word', max_df=.99, min_df=.2)\n",
    "enc = OrdinalEncoder()\n",
    "sc = StandardScaler()\n",
    "\n",
    "booster = xgb.XGBRegressor(colsample_bytree= 0.6, gamma= 0.0, learning_rate= 0.1, max_depth= 7, n_estimators= 200, tree_method = 'gpu_hist')\n",
    "\n",
    "# ct = ColumnTransformer(\n",
    "#         [(\"norm1\", Normalizer(norm='l1'), [0, 1]),\n",
    "#         (\"norm2\", Normalizer(norm='l1'), slice(2, 4))])\n",
    "text_transformer = Pipeline([('vect', vect)])\n",
    "\n",
    "preprocessor = ColumnTransformer(\n",
    "        transformers=[('text', vect, 'bag_of_words'),\n",
    "                      ('category', enc, ['host_has_profile_pic', 'room_type', 'bed_type', 'instant_bookable', 'is_business_travel_ready', 'cancellation_policy']),\n",
    "                      ('numbers', sc, number_columns)],\n",
    "        remainder='passthrough')\n",
    "\n",
    "# encoding_pipe = Pipeline([('enc', enc), ('sc', sc)])\n",
    "\n",
    "# test_transform = preprocessor.fit_transform\n",
    "# test_transform.inverse\n",
    "\n",
    "pipe = Pipeline([('preprocessor', preprocessor), ('booster', booster)])\n",
    "# grid_search = GridSearchCV(pipe, params, cv=5, n_jobs=4, verbose=5)\n",
    "# grid_search.fit(data.data, data.target)\n",
    "\n",
    "pipe.fit(features, target)"
   ]
  },
  {
   "cell_type": "code",
   "execution_count": 20,
   "metadata": {},
   "outputs": [],
   "source": [
    "y_pred = pipe.predict(X_test)"
   ]
  },
  {
   "cell_type": "code",
   "execution_count": 21,
   "metadata": {},
   "outputs": [
    {
     "data": {
      "text/plain": [
       "198.18099668446467"
      ]
     },
     "execution_count": 21,
     "metadata": {},
     "output_type": "execute_result"
    }
   ],
   "source": [
    "error = mean_squared_error(y_test, y_pred)\n",
    "error"
   ]
  },
  {
   "cell_type": "code",
   "execution_count": 22,
   "metadata": {},
   "outputs": [
    {
     "data": {
      "text/plain": [
       "0.8822548282152456"
      ]
     },
     "execution_count": 22,
     "metadata": {},
     "output_type": "execute_result"
    }
   ],
   "source": [
    "score = r2_score(y_test, y_pred)\n",
    "score"
   ]
  },
  {
   "cell_type": "code",
   "execution_count": 23,
   "metadata": {},
   "outputs": [
    {
     "data": {
      "text/plain": [
       "array([32.281487], dtype=float32)"
      ]
     },
     "execution_count": 23,
     "metadata": {},
     "output_type": "execute_result"
    }
   ],
   "source": [
    "pipe.predict(X_test.iloc[0:1])"
   ]
  },
  {
   "cell_type": "code",
   "execution_count": 24,
   "metadata": {},
   "outputs": [
    {
     "data": {
      "text/html": [
       "<div>\n",
       "<style scoped>\n",
       "    .dataframe tbody tr th:only-of-type {\n",
       "        vertical-align: middle;\n",
       "    }\n",
       "\n",
       "    .dataframe tbody tr th {\n",
       "        vertical-align: top;\n",
       "    }\n",
       "\n",
       "    .dataframe thead th {\n",
       "        text-align: right;\n",
       "    }\n",
       "</style>\n",
       "<table border=\"1\" class=\"dataframe\">\n",
       "  <thead>\n",
       "    <tr style=\"text-align: right;\">\n",
       "      <th></th>\n",
       "      <th>accommodates</th>\n",
       "      <th>bathrooms</th>\n",
       "      <th>bedrooms</th>\n",
       "      <th>cleaning_fee</th>\n",
       "      <th>security_deposit</th>\n",
       "      <th>extra_people</th>\n",
       "      <th>guests_included</th>\n",
       "      <th>distance</th>\n",
       "      <th>size</th>\n",
       "      <th>host_has_profile_pic</th>\n",
       "      <th>room_type</th>\n",
       "      <th>bed_type</th>\n",
       "      <th>minimum_nights</th>\n",
       "      <th>instant_bookable</th>\n",
       "      <th>is_business_travel_ready</th>\n",
       "      <th>cancellation_policy</th>\n",
       "      <th>bag_of_words</th>\n",
       "    </tr>\n",
       "  </thead>\n",
       "  <tbody>\n",
       "    <tr>\n",
       "      <th>17003618</th>\n",
       "      <td>1</td>\n",
       "      <td>1.0</td>\n",
       "      <td>1.0</td>\n",
       "      <td>0.0</td>\n",
       "      <td>0.0</td>\n",
       "      <td>20.0</td>\n",
       "      <td>1</td>\n",
       "      <td>5.327107</td>\n",
       "      <td>49.081867</td>\n",
       "      <td>t</td>\n",
       "      <td>Private room</td>\n",
       "      <td>Real Bed</td>\n",
       "      <td>2</td>\n",
       "      <td>f</td>\n",
       "      <td>f</td>\n",
       "      <td>flexible</td>\n",
       "      <td>gemütliche altbauwohnung schönen prenzlauer be...</td>\n",
       "    </tr>\n",
       "  </tbody>\n",
       "</table>\n",
       "</div>"
      ],
      "text/plain": [
       "          accommodates  bathrooms  bedrooms  cleaning_fee  security_deposit  \\\n",
       "17003618             1        1.0       1.0           0.0               0.0   \n",
       "\n",
       "          extra_people  guests_included  distance       size  \\\n",
       "17003618          20.0                1  5.327107  49.081867   \n",
       "\n",
       "         host_has_profile_pic     room_type  bed_type  minimum_nights  \\\n",
       "17003618                    t  Private room  Real Bed               2   \n",
       "\n",
       "         instant_bookable is_business_travel_ready cancellation_policy  \\\n",
       "17003618                f                        f            flexible   \n",
       "\n",
       "                                               bag_of_words  \n",
       "17003618  gemütliche altbauwohnung schönen prenzlauer be...  "
      ]
     },
     "execution_count": 24,
     "metadata": {},
     "output_type": "execute_result"
    }
   ],
   "source": [
    "X_test.iloc[0:1]"
   ]
  },
  {
   "cell_type": "code",
   "execution_count": 25,
   "metadata": {},
   "outputs": [
    {
     "data": {
      "text/plain": [
       "array([32.281487], dtype=float32)"
      ]
     },
     "execution_count": 25,
     "metadata": {},
     "output_type": "execute_result"
    }
   ],
   "source": [
    "pipe.predict(X_test.iloc[0:1])"
   ]
  },
  {
   "cell_type": "code",
   "execution_count": 26,
   "metadata": {},
   "outputs": [
    {
     "data": {
      "text/plain": [
       "accommodates                                                                1\n",
       "bathrooms                                                                   1\n",
       "bedrooms                                                                    1\n",
       "cleaning_fee                                                                0\n",
       "security_deposit                                                            0\n",
       "extra_people                                                               20\n",
       "guests_included                                                             1\n",
       "distance                                                              5.32711\n",
       "size                                                                  49.0819\n",
       "host_has_profile_pic                                                        t\n",
       "room_type                                                        Private room\n",
       "bed_type                                                             Real Bed\n",
       "minimum_nights                                                              2\n",
       "instant_bookable                                                            f\n",
       "is_business_travel_ready                                                    f\n",
       "cancellation_policy                                                  flexible\n",
       "bag_of_words                gemütliche altbauwohnung schönen prenzlauer be...\n",
       "Name: 17003618, dtype: object"
      ]
     },
     "execution_count": 26,
     "metadata": {},
     "output_type": "execute_result"
    }
   ],
   "source": [
    "X_test.iloc[0]"
   ]
  },
  {
   "cell_type": "code",
   "execution_count": 27,
   "metadata": {},
   "outputs": [
    {
     "data": {
      "text/html": [
       "<div>\n",
       "<style scoped>\n",
       "    .dataframe tbody tr th:only-of-type {\n",
       "        vertical-align: middle;\n",
       "    }\n",
       "\n",
       "    .dataframe tbody tr th {\n",
       "        vertical-align: top;\n",
       "    }\n",
       "\n",
       "    .dataframe thead th {\n",
       "        text-align: right;\n",
       "    }\n",
       "</style>\n",
       "<table border=\"1\" class=\"dataframe\">\n",
       "  <thead>\n",
       "    <tr style=\"text-align: right;\">\n",
       "      <th></th>\n",
       "      <th>accommodates</th>\n",
       "      <th>bathrooms</th>\n",
       "      <th>bedrooms</th>\n",
       "      <th>cleaning_fee</th>\n",
       "      <th>security_deposit</th>\n",
       "      <th>extra_people</th>\n",
       "      <th>guests_included</th>\n",
       "      <th>distance</th>\n",
       "      <th>size</th>\n",
       "      <th>host_has_profile_pic</th>\n",
       "      <th>room_type</th>\n",
       "      <th>bed_type</th>\n",
       "      <th>minimum_nights</th>\n",
       "      <th>instant_bookable</th>\n",
       "      <th>is_business_travel_ready</th>\n",
       "      <th>cancellation_policy</th>\n",
       "      <th>bag_of_words</th>\n",
       "    </tr>\n",
       "  </thead>\n",
       "  <tbody>\n",
       "    <tr>\n",
       "      <th>17003618</th>\n",
       "      <td>1</td>\n",
       "      <td>1.0</td>\n",
       "      <td>1.0</td>\n",
       "      <td>0.0</td>\n",
       "      <td>0.0</td>\n",
       "      <td>20.0</td>\n",
       "      <td>1</td>\n",
       "      <td>5.327107</td>\n",
       "      <td>49.081867</td>\n",
       "      <td>t</td>\n",
       "      <td>Private room</td>\n",
       "      <td>Real Bed</td>\n",
       "      <td>2</td>\n",
       "      <td>f</td>\n",
       "      <td>f</td>\n",
       "      <td>flexible</td>\n",
       "      <td>gemütliche altbauwohnung schönen prenzlauer be...</td>\n",
       "    </tr>\n",
       "    <tr>\n",
       "      <th>1750556</th>\n",
       "      <td>4</td>\n",
       "      <td>1.0</td>\n",
       "      <td>1.0</td>\n",
       "      <td>20.0</td>\n",
       "      <td>0.0</td>\n",
       "      <td>12.0</td>\n",
       "      <td>1</td>\n",
       "      <td>3.689059</td>\n",
       "      <td>15.000000</td>\n",
       "      <td>t</td>\n",
       "      <td>Private room</td>\n",
       "      <td>Real Bed</td>\n",
       "      <td>1</td>\n",
       "      <td>t</td>\n",
       "      <td>f</td>\n",
       "      <td>flexible</td>\n",
       "      <td>locate neukölln friedrichshain kreuzberg altba...</td>\n",
       "    </tr>\n",
       "    <tr>\n",
       "      <th>16391921</th>\n",
       "      <td>2</td>\n",
       "      <td>1.0</td>\n",
       "      <td>0.0</td>\n",
       "      <td>0.0</td>\n",
       "      <td>0.0</td>\n",
       "      <td>0.0</td>\n",
       "      <td>1</td>\n",
       "      <td>12.743088</td>\n",
       "      <td>46.920940</td>\n",
       "      <td>t</td>\n",
       "      <td>Entire home/apt</td>\n",
       "      <td>Real Bed</td>\n",
       "      <td>2</td>\n",
       "      <td>t</td>\n",
       "      <td>f</td>\n",
       "      <td>flexible</td>\n",
       "      <td>studio include bed 120x210 cm additional bed 9...</td>\n",
       "    </tr>\n",
       "    <tr>\n",
       "      <th>21317090</th>\n",
       "      <td>2</td>\n",
       "      <td>1.0</td>\n",
       "      <td>1.0</td>\n",
       "      <td>10.0</td>\n",
       "      <td>0.0</td>\n",
       "      <td>10.0</td>\n",
       "      <td>1</td>\n",
       "      <td>7.435503</td>\n",
       "      <td>200.000000</td>\n",
       "      <td>t</td>\n",
       "      <td>Private room</td>\n",
       "      <td>Real Bed</td>\n",
       "      <td>2</td>\n",
       "      <td>t</td>\n",
       "      <td>f</td>\n",
       "      <td>flexible</td>\n",
       "      <td>helle große zimmer einer schönen berliner altb...</td>\n",
       "    </tr>\n",
       "  </tbody>\n",
       "</table>\n",
       "</div>"
      ],
      "text/plain": [
       "          accommodates  bathrooms  bedrooms  cleaning_fee  security_deposit  \\\n",
       "17003618             1        1.0       1.0           0.0               0.0   \n",
       "1750556              4        1.0       1.0          20.0               0.0   \n",
       "16391921             2        1.0       0.0           0.0               0.0   \n",
       "21317090             2        1.0       1.0          10.0               0.0   \n",
       "\n",
       "          extra_people  guests_included   distance        size  \\\n",
       "17003618          20.0                1   5.327107   49.081867   \n",
       "1750556           12.0                1   3.689059   15.000000   \n",
       "16391921           0.0                1  12.743088   46.920940   \n",
       "21317090          10.0                1   7.435503  200.000000   \n",
       "\n",
       "         host_has_profile_pic        room_type  bed_type  minimum_nights  \\\n",
       "17003618                    t     Private room  Real Bed               2   \n",
       "1750556                     t     Private room  Real Bed               1   \n",
       "16391921                    t  Entire home/apt  Real Bed               2   \n",
       "21317090                    t     Private room  Real Bed               2   \n",
       "\n",
       "         instant_bookable is_business_travel_ready cancellation_policy  \\\n",
       "17003618                f                        f            flexible   \n",
       "1750556                 t                        f            flexible   \n",
       "16391921                t                        f            flexible   \n",
       "21317090                t                        f            flexible   \n",
       "\n",
       "                                               bag_of_words  \n",
       "17003618  gemütliche altbauwohnung schönen prenzlauer be...  \n",
       "1750556   locate neukölln friedrichshain kreuzberg altba...  \n",
       "16391921  studio include bed 120x210 cm additional bed 9...  \n",
       "21317090  helle große zimmer einer schönen berliner altb...  "
      ]
     },
     "execution_count": 27,
     "metadata": {},
     "output_type": "execute_result"
    }
   ],
   "source": [
    "import numpy as np\n",
    "X_test.iloc[0:4]"
   ]
  },
  {
   "cell_type": "code",
   "execution_count": 28,
   "metadata": {},
   "outputs": [
    {
     "data": {
      "text/html": [
       "<div>\n",
       "<style scoped>\n",
       "    .dataframe tbody tr th:only-of-type {\n",
       "        vertical-align: middle;\n",
       "    }\n",
       "\n",
       "    .dataframe tbody tr th {\n",
       "        vertical-align: top;\n",
       "    }\n",
       "\n",
       "    .dataframe thead th {\n",
       "        text-align: right;\n",
       "    }\n",
       "</style>\n",
       "<table border=\"1\" class=\"dataframe\">\n",
       "  <thead>\n",
       "    <tr style=\"text-align: right;\">\n",
       "      <th></th>\n",
       "      <th>price</th>\n",
       "    </tr>\n",
       "  </thead>\n",
       "  <tbody>\n",
       "    <tr>\n",
       "      <th>17003618</th>\n",
       "      <td>28.0</td>\n",
       "    </tr>\n",
       "    <tr>\n",
       "      <th>1750556</th>\n",
       "      <td>35.0</td>\n",
       "    </tr>\n",
       "    <tr>\n",
       "      <th>16391921</th>\n",
       "      <td>55.0</td>\n",
       "    </tr>\n",
       "    <tr>\n",
       "      <th>21317090</th>\n",
       "      <td>25.0</td>\n",
       "    </tr>\n",
       "  </tbody>\n",
       "</table>\n",
       "</div>"
      ],
      "text/plain": [
       "          price\n",
       "17003618   28.0\n",
       "1750556    35.0\n",
       "16391921   55.0\n",
       "21317090   25.0"
      ]
     },
     "execution_count": 28,
     "metadata": {},
     "output_type": "execute_result"
    }
   ],
   "source": [
    "y_test.iloc[0:4]"
   ]
  },
  {
   "cell_type": "code",
   "execution_count": 29,
   "metadata": {},
   "outputs": [],
   "source": [
    "# df_test.select_dtypes(include=['number'])"
   ]
  },
  {
   "cell_type": "code",
   "execution_count": 30,
   "metadata": {},
   "outputs": [],
   "source": [
    "# from sklearn.feature_extraction.text import CountVectorizer\n",
    "\n",
    "# test_lemma.dropna(subset=['bag_of_words'], inplace=True)\n",
    "\n",
    "# vectorizer = CountVectorizer(analyzer='word', max_df=.99, min_df=.10)\n",
    "# X = vectorizer.fit_transform(test_lemma.bag_of_words)"
   ]
  },
  {
   "cell_type": "code",
   "execution_count": 41,
   "metadata": {},
   "outputs": [
    {
     "ename": "NameError",
     "evalue": "name 'vectorizer' is not defined",
     "output_type": "error",
     "traceback": [
      "\u001b[1;31m---------------------------------------------------------------------------\u001b[0m",
      "\u001b[1;31mNameError\u001b[0m                                 Traceback (most recent call last)",
      "\u001b[1;32m<ipython-input-41-ae40d3348ba0>\u001b[0m in \u001b[0;36m<module>\u001b[1;34m\u001b[0m\n\u001b[1;32m----> 1\u001b[1;33m \u001b[0mprint\u001b[0m\u001b[1;33m(\u001b[0m\u001b[0mvectorizer\u001b[0m\u001b[1;33m.\u001b[0m\u001b[0mget_feature_names\u001b[0m\u001b[1;33m(\u001b[0m\u001b[1;33m)\u001b[0m\u001b[1;33m)\u001b[0m\u001b[1;33m\u001b[0m\u001b[1;33m\u001b[0m\u001b[0m\n\u001b[0m",
      "\u001b[1;31mNameError\u001b[0m: name 'vectorizer' is not defined"
     ]
    }
   ],
   "source": [
    "#print(vectorizer.get_feature_names())"
   ]
  },
  {
   "cell_type": "code",
   "execution_count": 32,
   "metadata": {},
   "outputs": [],
   "source": [
    "# Get feature importances\n",
    "\n",
    "# rf = pipe.named_steps['booster']\n",
    "# importances = pd.Series(rf.feature_importances_, X_train.columns)\n",
    "\n",
    "# # Plot feature importances\n",
    "# %matplotlib inline\n",
    "# import matplotlib.pyplot as plt\n",
    "\n",
    "# n = 20\n",
    "# plt.figure(figsize=(10,n/2))\n",
    "# plt.title(f'Top {n} features')\n",
    "# importances.sort_values()[-n:].plot.barh(color='grey');"
   ]
  },
  {
   "cell_type": "code",
   "execution_count": 33,
   "metadata": {},
   "outputs": [],
   "source": [
    "# pipe.named_steps['preprocessor']"
   ]
  },
  {
   "cell_type": "code",
   "execution_count": 34,
   "metadata": {},
   "outputs": [
    {
     "name": "stdout",
     "output_type": "stream",
     "text": [
      "[18:15:33] WARNING: C:/Jenkins/workspace/xgboost-win64_release_0.90/src/objective/regression_obj.cu:152: reg:linear is now deprecated in favor of reg:squarederror.\n"
     ]
    }
   ],
   "source": [
    "import joblib\n",
    "#save model\n",
    "joblib.dump(pipe, 'test2_regression.pkl') \n",
    "\n",
    "#load saved model\n",
    "pipe = joblib.load('./test2_regression.pkl')\n"
   ]
  },
  {
   "cell_type": "code",
   "execution_count": 35,
   "metadata": {},
   "outputs": [
    {
     "data": {
      "text/plain": [
       "array([32.281487], dtype=float32)"
      ]
     },
     "execution_count": 35,
     "metadata": {},
     "output_type": "execute_result"
    }
   ],
   "source": [
    "pipe.predict(X_test.iloc[0:1])"
   ]
  },
  {
   "cell_type": "code",
   "execution_count": 36,
   "metadata": {},
   "outputs": [],
   "source": [
    "# pd.DataFrame(X_test.iloc[0]).todense()"
   ]
  },
  {
   "cell_type": "code",
   "execution_count": 37,
   "metadata": {},
   "outputs": [
    {
     "data": {
      "text/html": [
       "<div>\n",
       "<style scoped>\n",
       "    .dataframe tbody tr th:only-of-type {\n",
       "        vertical-align: middle;\n",
       "    }\n",
       "\n",
       "    .dataframe tbody tr th {\n",
       "        vertical-align: top;\n",
       "    }\n",
       "\n",
       "    .dataframe thead th {\n",
       "        text-align: right;\n",
       "    }\n",
       "</style>\n",
       "<table border=\"1\" class=\"dataframe\">\n",
       "  <thead>\n",
       "    <tr style=\"text-align: right;\">\n",
       "      <th></th>\n",
       "      <th>accommodates</th>\n",
       "      <th>bathrooms</th>\n",
       "      <th>bedrooms</th>\n",
       "      <th>price</th>\n",
       "      <th>cleaning_fee</th>\n",
       "      <th>security_deposit</th>\n",
       "      <th>extra_people</th>\n",
       "      <th>guests_included</th>\n",
       "      <th>distance</th>\n",
       "      <th>size</th>\n",
       "      <th>...</th>\n",
       "      <th>longitude</th>\n",
       "      <th>property_type</th>\n",
       "      <th>room_type</th>\n",
       "      <th>bed_type</th>\n",
       "      <th>amenities</th>\n",
       "      <th>minimum_nights</th>\n",
       "      <th>instant_bookable</th>\n",
       "      <th>is_business_travel_ready</th>\n",
       "      <th>cancellation_policy</th>\n",
       "      <th>bag_of_words</th>\n",
       "    </tr>\n",
       "  </thead>\n",
       "  <tbody>\n",
       "    <tr>\n",
       "      <th>2015</th>\n",
       "      <td>3</td>\n",
       "      <td>1.0</td>\n",
       "      <td>1.0</td>\n",
       "      <td>60.0</td>\n",
       "      <td>30.0</td>\n",
       "      <td>200.0</td>\n",
       "      <td>28.0</td>\n",
       "      <td>1</td>\n",
       "      <td>3.533182</td>\n",
       "      <td>75.0</td>\n",
       "      <td>...</td>\n",
       "      <td>13.402557</td>\n",
       "      <td>Guesthouse</td>\n",
       "      <td>Entire home/apt</td>\n",
       "      <td>Real Bed</td>\n",
       "      <td>{TV,\"Cable TV\",Wifi,Kitchen,Gym,Heating,\"Famil...</td>\n",
       "      <td>4</td>\n",
       "      <td>f</td>\n",
       "      <td>f</td>\n",
       "      <td>strict_14_with_grace_period</td>\n",
       "      <td>great location 30 75 sq meter wood floor high ...</td>\n",
       "    </tr>\n",
       "  </tbody>\n",
       "</table>\n",
       "<p>1 rows × 23 columns</p>\n",
       "</div>"
      ],
      "text/plain": [
       "      accommodates  bathrooms  bedrooms  price  cleaning_fee  \\\n",
       "2015             3        1.0       1.0   60.0          30.0   \n",
       "\n",
       "      security_deposit  extra_people  guests_included  distance  size  ...  \\\n",
       "2015             200.0          28.0                1  3.533182  75.0  ...   \n",
       "\n",
       "      longitude property_type        room_type  bed_type  \\\n",
       "2015  13.402557    Guesthouse  Entire home/apt  Real Bed   \n",
       "\n",
       "                                              amenities minimum_nights  \\\n",
       "2015  {TV,\"Cable TV\",Wifi,Kitchen,Gym,Heating,\"Famil...              4   \n",
       "\n",
       "     instant_bookable is_business_travel_ready          cancellation_policy  \\\n",
       "2015                f                        f  strict_14_with_grace_period   \n",
       "\n",
       "                                           bag_of_words  \n",
       "2015  great location 30 75 sq meter wood floor high ...  \n",
       "\n",
       "[1 rows x 23 columns]"
      ]
     },
     "execution_count": 37,
     "metadata": {},
     "output_type": "execute_result"
    }
   ],
   "source": [
    "df.iloc[0:1]"
   ]
  },
  {
   "cell_type": "code",
   "execution_count": 38,
   "metadata": {},
   "outputs": [],
   "source": [
    "test_df = features.iloc[0:2].copy()"
   ]
  },
  {
   "cell_type": "code",
   "execution_count": 39,
   "metadata": {},
   "outputs": [
    {
     "data": {
      "text/html": [
       "<div>\n",
       "<style scoped>\n",
       "    .dataframe tbody tr th:only-of-type {\n",
       "        vertical-align: middle;\n",
       "    }\n",
       "\n",
       "    .dataframe tbody tr th {\n",
       "        vertical-align: top;\n",
       "    }\n",
       "\n",
       "    .dataframe thead th {\n",
       "        text-align: right;\n",
       "    }\n",
       "</style>\n",
       "<table border=\"1\" class=\"dataframe\">\n",
       "  <thead>\n",
       "    <tr style=\"text-align: right;\">\n",
       "      <th></th>\n",
       "      <th>accommodates</th>\n",
       "      <th>bathrooms</th>\n",
       "      <th>bedrooms</th>\n",
       "      <th>cleaning_fee</th>\n",
       "      <th>security_deposit</th>\n",
       "      <th>extra_people</th>\n",
       "      <th>guests_included</th>\n",
       "      <th>distance</th>\n",
       "      <th>size</th>\n",
       "      <th>host_has_profile_pic</th>\n",
       "      <th>room_type</th>\n",
       "      <th>bed_type</th>\n",
       "      <th>minimum_nights</th>\n",
       "      <th>instant_bookable</th>\n",
       "      <th>is_business_travel_ready</th>\n",
       "      <th>cancellation_policy</th>\n",
       "      <th>bag_of_words</th>\n",
       "    </tr>\n",
       "  </thead>\n",
       "  <tbody>\n",
       "    <tr>\n",
       "      <th>2015</th>\n",
       "      <td>3</td>\n",
       "      <td>1.0</td>\n",
       "      <td>1.0</td>\n",
       "      <td>30.0</td>\n",
       "      <td>200.0</td>\n",
       "      <td>28.0</td>\n",
       "      <td>1</td>\n",
       "      <td>3.533182</td>\n",
       "      <td>75.0</td>\n",
       "      <td>t</td>\n",
       "      <td>Entire home/apt</td>\n",
       "      <td>Real Bed</td>\n",
       "      <td>4</td>\n",
       "      <td>f</td>\n",
       "      <td>f</td>\n",
       "      <td>strict_14_with_grace_period</td>\n",
       "      <td>great location 30 75 sq meter wood floor high ...</td>\n",
       "    </tr>\n",
       "    <tr>\n",
       "      <th>2695</th>\n",
       "      <td>2</td>\n",
       "      <td>1.0</td>\n",
       "      <td>1.0</td>\n",
       "      <td>0.0</td>\n",
       "      <td>0.0</td>\n",
       "      <td>0.0</td>\n",
       "      <td>1</td>\n",
       "      <td>5.085573</td>\n",
       "      <td>25.0</td>\n",
       "      <td>t</td>\n",
       "      <td>Private room</td>\n",
       "      <td>Real Bed</td>\n",
       "      <td>2</td>\n",
       "      <td>f</td>\n",
       "      <td>f</td>\n",
       "      <td>flexible</td>\n",
       "      <td>summertime spending weekend little house garde...</td>\n",
       "    </tr>\n",
       "  </tbody>\n",
       "</table>\n",
       "</div>"
      ],
      "text/plain": [
       "      accommodates  bathrooms  bedrooms  cleaning_fee  security_deposit  \\\n",
       "2015             3        1.0       1.0          30.0             200.0   \n",
       "2695             2        1.0       1.0           0.0               0.0   \n",
       "\n",
       "      extra_people  guests_included  distance  size host_has_profile_pic  \\\n",
       "2015          28.0                1  3.533182  75.0                    t   \n",
       "2695           0.0                1  5.085573  25.0                    t   \n",
       "\n",
       "            room_type  bed_type  minimum_nights instant_bookable  \\\n",
       "2015  Entire home/apt  Real Bed               4                f   \n",
       "2695     Private room  Real Bed               2                f   \n",
       "\n",
       "     is_business_travel_ready          cancellation_policy  \\\n",
       "2015                        f  strict_14_with_grace_period   \n",
       "2695                        f                     flexible   \n",
       "\n",
       "                                           bag_of_words  \n",
       "2015  great location 30 75 sq meter wood floor high ...  \n",
       "2695  summertime spending weekend little house garde...  "
      ]
     },
     "execution_count": 39,
     "metadata": {},
     "output_type": "execute_result"
    }
   ],
   "source": [
    "test_df"
   ]
  },
  {
   "cell_type": "code",
   "execution_count": 40,
   "metadata": {},
   "outputs": [],
   "source": [
    "test_df.to_csv('testdf.csv', index=True)\n"
   ]
  },
  {
   "cell_type": "code",
   "execution_count": null,
   "metadata": {},
   "outputs": [],
   "source": []
  }
 ],
 "metadata": {
  "kernelspec": {
   "display_name": "Python 3",
   "language": "python",
   "name": "python3"
  },
  "language_info": {
   "codemirror_mode": {
    "name": "ipython",
    "version": 3
   },
   "file_extension": ".py",
   "mimetype": "text/x-python",
   "name": "python",
   "nbconvert_exporter": "python",
   "pygments_lexer": "ipython3",
   "version": "3.7.5"
  }
 },
 "nbformat": 4,
 "nbformat_minor": 4
}
